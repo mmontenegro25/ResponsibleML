{
 "cells": [
  {
   "cell_type": "markdown",
   "id": "f0b5bfa6-bcaa-40da-b36a-ccb4dc0ec865",
   "metadata": {},
   "source": [
    "# **Assignment 5**"
   ]
  },
  {
   "cell_type": "markdown",
   "id": "44677c63-0bbf-440e-ad18-f4ffc1eefde3",
   "metadata": {},
   "source": [
    "### **Group 3** - Bethel Mandizha, Miranda Montenegro, Rahul Saha, Zeyu Wang"
   ]
  },
  {
   "cell_type": "markdown",
   "id": "4f4c5305-603c-491d-a099-9ef45d9f3ccf",
   "metadata": {},
   "source": [
    "-----"
   ]
  },
  {
   "cell_type": "markdown",
   "id": "3fa1e495-7e7b-459e-839f-c7f4ed2162c8",
   "metadata": {},
   "source": [
    "Copyright 2021 - 2025 Patrick Hall (jphall@gwu.edu), Bethel Mandizha (bethel.mandizha@gwmail.gwu.edu), Miranda Montenegro (miranda.montenegrolopez@gwmail.gwu.edu), Rahul Saha (rahul.saha@gwmail.gwu.edu), & Zeyu Wang (zywang@gwu.edu)"
   ]
  },
  {
   "cell_type": "markdown",
   "id": "64226da3-eb64-4bc8-97fb-a33db9d20c6c",
   "metadata": {},
   "source": [
    "Licensed under the Apache License, Version 2.0 (the \"License\"); you may not use this file except in compliance with the License. You may obtain a copy of the License at\n",
    "\n",
    "http://www.apache.org/licenses/LICENSE-2.0"
   ]
  },
  {
   "cell_type": "markdown",
   "id": "54d48118-3ff3-4649-87e6-54892f7920a8",
   "metadata": {},
   "source": [
    "Unless required by applicable law or agreed to in writing, software distributed under the License is distributed on an \"AS IS\" BASIS, WITHOUT WARRANTIES OR CONDITIONS OF ANY KIND, either express or implied. See the License for the specific language governing permissions and limitations under the License.\n",
    "\n",
    "DISCLAIMER: This notebook is not legal or compliance advice."
   ]
  },
  {
   "cell_type": "markdown",
   "id": "16bcb8d7-1e66-4540-bbf7-42a77debd2d1",
   "metadata": {},
   "source": [
    "-----"
   ]
  },
  {
   "cell_type": "markdown",
   "id": "eb4f943d-5ebc-40a9-a155-d16c89d62201",
   "metadata": {},
   "source": [
    "### **Importing Necessary Libraries**"
   ]
  },
  {
   "cell_type": "code",
   "execution_count": 1,
   "id": "1abdada7-98d3-4513-9112-b371e0f2d8c1",
   "metadata": {},
   "outputs": [],
   "source": [
    "#Data manipulation, plotting and metrics\n",
    "import numpy as np\n",
    "import pandas as pd\n",
    "import operator\n",
    "import matplotlib.pyplot as plt\n",
    "from sklearn import metrics\n",
    "import seaborn as sns  \n",
    "import datetime   \n",
    "import time  \n",
    "\n",
    "#Model modules\n",
    "import xgboost as xgb  \n",
    "import itertools \n",
    "from interpret import show\n",
    "from interpret.glassbox import ExplainableBoostingClassifier\n",
    "from interpret.perf import ROC \n",
    "\n",
    "#Setting numpy seed for better reproducibility\n",
    "SEED = 12345 \n",
    "np.random.seed(SEED)\n",
    "\n",
    "#Setting number of threads\n",
    "NTHREAD = 4"
   ]
  },
  {
   "cell_type": "markdown",
   "id": "298ffb36-4ad9-4593-8dd3-cda3d148f8e6",
   "metadata": {},
   "source": [
    "#### Starting the Global Timer"
   ]
  },
  {
   "cell_type": "code",
   "execution_count": 2,
   "id": "8ecabd0b-f3d0-4908-89b1-b427400731cf",
   "metadata": {},
   "outputs": [],
   "source": [
    "tic = time.time()"
   ]
  },
  {
   "cell_type": "markdown",
   "id": "eca60d56-5dfe-41ba-a10c-de4454927b8f",
   "metadata": {},
   "source": [
    "### **Importing Applicable Data**"
   ]
  },
  {
   "cell_type": "code",
   "execution_count": 3,
   "id": "fced0512-716a-46fc-8afc-b4f1a4535b7b",
   "metadata": {},
   "outputs": [
    {
     "data": {
      "text/html": [
       "<div>\n",
       "<style scoped>\n",
       "    .dataframe tbody tr th:only-of-type {\n",
       "        vertical-align: middle;\n",
       "    }\n",
       "\n",
       "    .dataframe tbody tr th {\n",
       "        vertical-align: top;\n",
       "    }\n",
       "\n",
       "    .dataframe thead th {\n",
       "        text-align: right;\n",
       "    }\n",
       "</style>\n",
       "<table border=\"1\" class=\"dataframe\">\n",
       "  <thead>\n",
       "    <tr style=\"text-align: right;\">\n",
       "      <th></th>\n",
       "      <th>row_id</th>\n",
       "      <th>black</th>\n",
       "      <th>asian</th>\n",
       "      <th>white</th>\n",
       "      <th>amind</th>\n",
       "      <th>hipac</th>\n",
       "      <th>hispanic</th>\n",
       "      <th>non_hispanic</th>\n",
       "      <th>male</th>\n",
       "      <th>female</th>\n",
       "      <th>...</th>\n",
       "      <th>conforming</th>\n",
       "      <th>debt_to_income_ratio_missing</th>\n",
       "      <th>loan_amount_std</th>\n",
       "      <th>loan_to_value_ratio_std</th>\n",
       "      <th>no_intro_rate_period_std</th>\n",
       "      <th>intro_rate_period_std</th>\n",
       "      <th>property_value_std</th>\n",
       "      <th>income_std</th>\n",
       "      <th>debt_to_income_ratio_std</th>\n",
       "      <th>high_priced</th>\n",
       "    </tr>\n",
       "  </thead>\n",
       "  <tbody>\n",
       "    <tr>\n",
       "      <th>0</th>\n",
       "      <td>0</td>\n",
       "      <td>NaN</td>\n",
       "      <td>NaN</td>\n",
       "      <td>NaN</td>\n",
       "      <td>NaN</td>\n",
       "      <td>NaN</td>\n",
       "      <td>NaN</td>\n",
       "      <td>NaN</td>\n",
       "      <td>1.0</td>\n",
       "      <td>0.0</td>\n",
       "      <td>...</td>\n",
       "      <td>1</td>\n",
       "      <td>0</td>\n",
       "      <td>-0.514393</td>\n",
       "      <td>0.333922</td>\n",
       "      <td>0.244394</td>\n",
       "      <td>-0.215304</td>\n",
       "      <td>-0.535932</td>\n",
       "      <td>-0.040307</td>\n",
       "      <td>0.854601</td>\n",
       "      <td>0</td>\n",
       "    </tr>\n",
       "    <tr>\n",
       "      <th>1</th>\n",
       "      <td>1</td>\n",
       "      <td>0.0</td>\n",
       "      <td>0.0</td>\n",
       "      <td>1.0</td>\n",
       "      <td>0.0</td>\n",
       "      <td>0.0</td>\n",
       "      <td>0.0</td>\n",
       "      <td>1.0</td>\n",
       "      <td>NaN</td>\n",
       "      <td>NaN</td>\n",
       "      <td>...</td>\n",
       "      <td>1</td>\n",
       "      <td>0</td>\n",
       "      <td>-0.118642</td>\n",
       "      <td>0.268727</td>\n",
       "      <td>0.244394</td>\n",
       "      <td>-0.215304</td>\n",
       "      <td>-0.227585</td>\n",
       "      <td>-0.018133</td>\n",
       "      <td>-0.425131</td>\n",
       "      <td>0</td>\n",
       "    </tr>\n",
       "    <tr>\n",
       "      <th>2</th>\n",
       "      <td>2</td>\n",
       "      <td>NaN</td>\n",
       "      <td>NaN</td>\n",
       "      <td>NaN</td>\n",
       "      <td>NaN</td>\n",
       "      <td>NaN</td>\n",
       "      <td>NaN</td>\n",
       "      <td>NaN</td>\n",
       "      <td>NaN</td>\n",
       "      <td>NaN</td>\n",
       "      <td>...</td>\n",
       "      <td>1</td>\n",
       "      <td>0</td>\n",
       "      <td>-0.778227</td>\n",
       "      <td>0.228996</td>\n",
       "      <td>-4.091747</td>\n",
       "      <td>4.610857</td>\n",
       "      <td>-0.720941</td>\n",
       "      <td>-0.032338</td>\n",
       "      <td>0.123326</td>\n",
       "      <td>0</td>\n",
       "    </tr>\n",
       "    <tr>\n",
       "      <th>3</th>\n",
       "      <td>3</td>\n",
       "      <td>0.0</td>\n",
       "      <td>0.0</td>\n",
       "      <td>1.0</td>\n",
       "      <td>0.0</td>\n",
       "      <td>0.0</td>\n",
       "      <td>0.0</td>\n",
       "      <td>1.0</td>\n",
       "      <td>NaN</td>\n",
       "      <td>NaN</td>\n",
       "      <td>...</td>\n",
       "      <td>1</td>\n",
       "      <td>0</td>\n",
       "      <td>-0.074670</td>\n",
       "      <td>-1.150240</td>\n",
       "      <td>0.244394</td>\n",
       "      <td>-0.215304</td>\n",
       "      <td>0.358276</td>\n",
       "      <td>-0.018133</td>\n",
       "      <td>-0.425131</td>\n",
       "      <td>0</td>\n",
       "    </tr>\n",
       "    <tr>\n",
       "      <th>4</th>\n",
       "      <td>4</td>\n",
       "      <td>0.0</td>\n",
       "      <td>0.0</td>\n",
       "      <td>1.0</td>\n",
       "      <td>0.0</td>\n",
       "      <td>0.0</td>\n",
       "      <td>1.0</td>\n",
       "      <td>0.0</td>\n",
       "      <td>NaN</td>\n",
       "      <td>NaN</td>\n",
       "      <td>...</td>\n",
       "      <td>1</td>\n",
       "      <td>0</td>\n",
       "      <td>-0.602338</td>\n",
       "      <td>0.552520</td>\n",
       "      <td>0.244394</td>\n",
       "      <td>-0.215304</td>\n",
       "      <td>-0.628437</td>\n",
       "      <td>-0.038228</td>\n",
       "      <td>0.763191</td>\n",
       "      <td>0</td>\n",
       "    </tr>\n",
       "  </tbody>\n",
       "</table>\n",
       "<p>5 rows × 23 columns</p>\n",
       "</div>"
      ],
      "text/plain": [
       "   row_id  black  asian  white  amind  hipac  hispanic  non_hispanic  male  \\\n",
       "0       0    NaN    NaN    NaN    NaN    NaN       NaN           NaN   1.0   \n",
       "1       1    0.0    0.0    1.0    0.0    0.0       0.0           1.0   NaN   \n",
       "2       2    NaN    NaN    NaN    NaN    NaN       NaN           NaN   NaN   \n",
       "3       3    0.0    0.0    1.0    0.0    0.0       0.0           1.0   NaN   \n",
       "4       4    0.0    0.0    1.0    0.0    0.0       1.0           0.0   NaN   \n",
       "\n",
       "   female  ...  conforming  debt_to_income_ratio_missing  loan_amount_std  \\\n",
       "0     0.0  ...           1                             0        -0.514393   \n",
       "1     NaN  ...           1                             0        -0.118642   \n",
       "2     NaN  ...           1                             0        -0.778227   \n",
       "3     NaN  ...           1                             0        -0.074670   \n",
       "4     NaN  ...           1                             0        -0.602338   \n",
       "\n",
       "   loan_to_value_ratio_std  no_intro_rate_period_std  intro_rate_period_std  \\\n",
       "0                 0.333922                  0.244394              -0.215304   \n",
       "1                 0.268727                  0.244394              -0.215304   \n",
       "2                 0.228996                 -4.091747               4.610857   \n",
       "3                -1.150240                  0.244394              -0.215304   \n",
       "4                 0.552520                  0.244394              -0.215304   \n",
       "\n",
       "   property_value_std  income_std  debt_to_income_ratio_std  high_priced  \n",
       "0           -0.535932   -0.040307                  0.854601            0  \n",
       "1           -0.227585   -0.018133                 -0.425131            0  \n",
       "2           -0.720941   -0.032338                  0.123326            0  \n",
       "3            0.358276   -0.018133                 -0.425131            0  \n",
       "4           -0.628437   -0.038228                  0.763191            0  \n",
       "\n",
       "[5 rows x 23 columns]"
      ]
     },
     "execution_count": 3,
     "metadata": {},
     "output_type": "execute_result"
    }
   ],
   "source": [
    "#Importing pre-processed training data and showing first 5 lines of the dataset\n",
    "train_data = pd.read_csv('/Users/Jing/Downloads/hmda_train_preprocessed.csv')\n",
    "train_data.head()"
   ]
  },
  {
   "cell_type": "code",
   "execution_count": 4,
   "id": "310b8681-067a-4cd3-8f91-c7680cd3e840",
   "metadata": {},
   "outputs": [
    {
     "data": {
      "text/html": [
       "<div>\n",
       "<style scoped>\n",
       "    .dataframe tbody tr th:only-of-type {\n",
       "        vertical-align: middle;\n",
       "    }\n",
       "\n",
       "    .dataframe tbody tr th {\n",
       "        vertical-align: top;\n",
       "    }\n",
       "\n",
       "    .dataframe thead th {\n",
       "        text-align: right;\n",
       "    }\n",
       "</style>\n",
       "<table border=\"1\" class=\"dataframe\">\n",
       "  <thead>\n",
       "    <tr style=\"text-align: right;\">\n",
       "      <th></th>\n",
       "      <th>row_id</th>\n",
       "      <th>black</th>\n",
       "      <th>asian</th>\n",
       "      <th>white</th>\n",
       "      <th>amind</th>\n",
       "      <th>hipac</th>\n",
       "      <th>hispanic</th>\n",
       "      <th>non_hispanic</th>\n",
       "      <th>male</th>\n",
       "      <th>female</th>\n",
       "      <th>...</th>\n",
       "      <th>term_360</th>\n",
       "      <th>conforming</th>\n",
       "      <th>debt_to_income_ratio_missing</th>\n",
       "      <th>loan_amount_std</th>\n",
       "      <th>loan_to_value_ratio_std</th>\n",
       "      <th>no_intro_rate_period_std</th>\n",
       "      <th>intro_rate_period_std</th>\n",
       "      <th>property_value_std</th>\n",
       "      <th>income_std</th>\n",
       "      <th>debt_to_income_ratio_std</th>\n",
       "    </tr>\n",
       "  </thead>\n",
       "  <tbody>\n",
       "    <tr>\n",
       "      <th>0</th>\n",
       "      <td>0</td>\n",
       "      <td>0.0</td>\n",
       "      <td>0.0</td>\n",
       "      <td>1.0</td>\n",
       "      <td>0.0</td>\n",
       "      <td>0.0</td>\n",
       "      <td>0.0</td>\n",
       "      <td>1.0</td>\n",
       "      <td>0.0</td>\n",
       "      <td>1.0</td>\n",
       "      <td>...</td>\n",
       "      <td>1</td>\n",
       "      <td>1</td>\n",
       "      <td>0</td>\n",
       "      <td>-0.514393</td>\n",
       "      <td>-0.039293</td>\n",
       "      <td>0.244394</td>\n",
       "      <td>-0.215304</td>\n",
       "      <td>-0.474263</td>\n",
       "      <td>-0.017786</td>\n",
       "      <td>0.854601</td>\n",
       "    </tr>\n",
       "    <tr>\n",
       "      <th>1</th>\n",
       "      <td>1</td>\n",
       "      <td>0.0</td>\n",
       "      <td>0.0</td>\n",
       "      <td>1.0</td>\n",
       "      <td>0.0</td>\n",
       "      <td>0.0</td>\n",
       "      <td>NaN</td>\n",
       "      <td>NaN</td>\n",
       "      <td>NaN</td>\n",
       "      <td>NaN</td>\n",
       "      <td>...</td>\n",
       "      <td>1</td>\n",
       "      <td>1</td>\n",
       "      <td>0</td>\n",
       "      <td>-0.162614</td>\n",
       "      <td>0.126830</td>\n",
       "      <td>0.244394</td>\n",
       "      <td>-0.215304</td>\n",
       "      <td>-0.227585</td>\n",
       "      <td>-0.015014</td>\n",
       "      <td>-0.425131</td>\n",
       "    </tr>\n",
       "    <tr>\n",
       "      <th>2</th>\n",
       "      <td>2</td>\n",
       "      <td>NaN</td>\n",
       "      <td>NaN</td>\n",
       "      <td>NaN</td>\n",
       "      <td>NaN</td>\n",
       "      <td>NaN</td>\n",
       "      <td>1.0</td>\n",
       "      <td>0.0</td>\n",
       "      <td>NaN</td>\n",
       "      <td>NaN</td>\n",
       "      <td>...</td>\n",
       "      <td>1</td>\n",
       "      <td>1</td>\n",
       "      <td>0</td>\n",
       "      <td>-0.646310</td>\n",
       "      <td>0.552520</td>\n",
       "      <td>0.244394</td>\n",
       "      <td>-0.215304</td>\n",
       "      <td>-0.659271</td>\n",
       "      <td>-0.033378</td>\n",
       "      <td>-0.425131</td>\n",
       "    </tr>\n",
       "    <tr>\n",
       "      <th>3</th>\n",
       "      <td>3</td>\n",
       "      <td>NaN</td>\n",
       "      <td>NaN</td>\n",
       "      <td>NaN</td>\n",
       "      <td>NaN</td>\n",
       "      <td>NaN</td>\n",
       "      <td>NaN</td>\n",
       "      <td>NaN</td>\n",
       "      <td>NaN</td>\n",
       "      <td>NaN</td>\n",
       "      <td>...</td>\n",
       "      <td>1</td>\n",
       "      <td>0</td>\n",
       "      <td>0</td>\n",
       "      <td>3.662982</td>\n",
       "      <td>0.133614</td>\n",
       "      <td>0.244394</td>\n",
       "      <td>-0.215304</td>\n",
       "      <td>2.763389</td>\n",
       "      <td>0.025177</td>\n",
       "      <td>0.306144</td>\n",
       "    </tr>\n",
       "    <tr>\n",
       "      <th>4</th>\n",
       "      <td>4</td>\n",
       "      <td>0.0</td>\n",
       "      <td>0.0</td>\n",
       "      <td>1.0</td>\n",
       "      <td>0.0</td>\n",
       "      <td>0.0</td>\n",
       "      <td>0.0</td>\n",
       "      <td>1.0</td>\n",
       "      <td>1.0</td>\n",
       "      <td>0.0</td>\n",
       "      <td>...</td>\n",
       "      <td>1</td>\n",
       "      <td>1</td>\n",
       "      <td>0</td>\n",
       "      <td>-0.338504</td>\n",
       "      <td>0.552520</td>\n",
       "      <td>0.244394</td>\n",
       "      <td>-0.215304</td>\n",
       "      <td>-0.443428</td>\n",
       "      <td>-0.027834</td>\n",
       "      <td>0.306144</td>\n",
       "    </tr>\n",
       "  </tbody>\n",
       "</table>\n",
       "<p>5 rows × 22 columns</p>\n",
       "</div>"
      ],
      "text/plain": [
       "   row_id  black  asian  white  amind  hipac  hispanic  non_hispanic  male  \\\n",
       "0       0    0.0    0.0    1.0    0.0    0.0       0.0           1.0   0.0   \n",
       "1       1    0.0    0.0    1.0    0.0    0.0       NaN           NaN   NaN   \n",
       "2       2    NaN    NaN    NaN    NaN    NaN       1.0           0.0   NaN   \n",
       "3       3    NaN    NaN    NaN    NaN    NaN       NaN           NaN   NaN   \n",
       "4       4    0.0    0.0    1.0    0.0    0.0       0.0           1.0   1.0   \n",
       "\n",
       "   female  ...  term_360  conforming  debt_to_income_ratio_missing  \\\n",
       "0     1.0  ...         1           1                             0   \n",
       "1     NaN  ...         1           1                             0   \n",
       "2     NaN  ...         1           1                             0   \n",
       "3     NaN  ...         1           0                             0   \n",
       "4     0.0  ...         1           1                             0   \n",
       "\n",
       "   loan_amount_std  loan_to_value_ratio_std  no_intro_rate_period_std  \\\n",
       "0        -0.514393                -0.039293                  0.244394   \n",
       "1        -0.162614                 0.126830                  0.244394   \n",
       "2        -0.646310                 0.552520                  0.244394   \n",
       "3         3.662982                 0.133614                  0.244394   \n",
       "4        -0.338504                 0.552520                  0.244394   \n",
       "\n",
       "   intro_rate_period_std  property_value_std  income_std  \\\n",
       "0              -0.215304           -0.474263   -0.017786   \n",
       "1              -0.215304           -0.227585   -0.015014   \n",
       "2              -0.215304           -0.659271   -0.033378   \n",
       "3              -0.215304            2.763389    0.025177   \n",
       "4              -0.215304           -0.443428   -0.027834   \n",
       "\n",
       "   debt_to_income_ratio_std  \n",
       "0                  0.854601  \n",
       "1                 -0.425131  \n",
       "2                 -0.425131  \n",
       "3                  0.306144  \n",
       "4                  0.306144  \n",
       "\n",
       "[5 rows x 22 columns]"
      ]
     },
     "execution_count": 4,
     "metadata": {},
     "output_type": "execute_result"
    }
   ],
   "source": [
    "#Importing pre-processed testing data and showing first 5 lines of the dataset\n",
    "test_data = pd.read_csv('/Users/Jing/Downloads/hmda_test_preprocessed.csv')\n",
    "test_data.head()"
   ]
  },
  {
   "cell_type": "markdown",
   "id": "f6ac15c1-61fe-49c1-acd1-09f8e9d8672e",
   "metadata": {},
   "source": [
    "#### Assigning modeling roles for the data"
   ]
  },
  {
   "cell_type": "code",
   "execution_count": 5,
   "id": "4f6cd2ea-763d-4f0d-83e0-f1bd53a703ae",
   "metadata": {},
   "outputs": [
    {
     "name": "stdout",
     "output_type": "stream",
     "text": [
      "target = high_priced\n",
      "predictors = ['term_360', 'conforming', 'debt_to_income_ratio_missing', 'loan_amount_std', 'loan_to_value_ratio_std', 'no_intro_rate_period_std', 'intro_rate_period_std', 'property_value_std', 'income_std', 'debt_to_income_ratio_std']\n"
     ]
    }
   ],
   "source": [
    "#Setting target and features for the data\n",
    "target = 'high_priced'\n",
    "demographic_cols = ['black', 'asian','white', 'amind', 'hipac', 'hispanic', 'non_hispanic', 'male', 'female', 'agegte62', 'agelt62']\n",
    "features = [col for col in train_data.columns if col not in demographic_cols + ['row_id',target]]\n",
    "\n",
    "print('target =', target)\n",
    "print('predictors =', features)"
   ]
  },
  {
   "cell_type": "markdown",
   "id": "d78fe06c-59dc-43d7-8630-1e078df1230c",
   "metadata": {},
   "source": [
    "### **Fitting the Data**"
   ]
  },
  {
   "cell_type": "code",
   "execution_count": 6,
   "id": "d5e48ad4-bef8-4758-af92-d7bd53c7d028",
   "metadata": {},
   "outputs": [
    {
     "name": "stdout",
     "output_type": "stream",
     "text": [
      "Train data rows = 112253, columns = 23\n",
      "Validation data rows = 48085, columns = 23\n"
     ]
    }
   ],
   "source": [
    "#Preserve exact reproducibility for this cell\n",
    "np.random.seed(SEED) \n",
    "\n",
    "#Choosing a 70/30 train/test split \n",
    "split_ratio = 0.7\n",
    "\n",
    "#Execute split\n",
    "split = np.random.rand(len(train_data)) < split_ratio\n",
    "train = train_data[split]\n",
    "valid = train_data[~split]\n",
    "\n",
    "#Summarize split\n",
    "print('Train data rows = %d, columns = %d' % (train.shape[0], train.shape[1]))\n",
    "print('Validation data rows = %d, columns = %d' % (valid.shape[0], valid.shape[1]))"
   ]
  },
  {
   "cell_type": "markdown",
   "id": "c8a65e53-44fb-4f0f-b835-172fec719504",
   "metadata": {},
   "source": [
    "### Explainable Boosting Machine"
   ]
  },
  {
   "cell_type": "markdown",
   "id": "b688b280-5fbc-444a-8676-30ddbe085a13",
   "metadata": {},
   "source": [
    "#### Retrain most accurate model above 0.8 AIR to debug"
   ]
  },
  {
   "cell_type": "code",
   "execution_count": 7,
   "id": "5a16d9f6-d524-4a59-9acb-879a6a599910",
   "metadata": {},
   "outputs": [
    {
     "name": "stdout",
     "output_type": "stream",
     "text": [
      "Remediated EBM retrained with AUC: 0.7815.\n"
     ]
    }
   ],
   "source": [
    "# params dict for remediated models\n",
    "rem_params = {'max_bins': 1024,\n",
    " 'max_interaction_bins': 24,\n",
    " 'interactions': 5,\n",
    " 'outer_bags': 8,\n",
    " 'inner_bags': 0,\n",
    " 'learning_rate': 0.01,\n",
    " 'validation_size': 0.05,\n",
    " 'min_samples_leaf': 1,\n",
    " 'max_leaves': 5,\n",
    " 'n_jobs': NTHREAD,\n",
    " 'early_stopping_rounds': 100,\n",
    " 'random_state': SEED} # YOUR MODEL PARAMETERS HERE!\n",
    "\n",
    "rem_x_names = ['intro_rate_period_std',\n",
    " 'debt_to_income_ratio_std',\n",
    " 'term_360',\n",
    " 'property_value_std',\n",
    " 'income_std',\n",
    " 'debt_to_income_ratio_missing'] # YOUR FEATURES HERE!\n",
    "\n",
    "# reset some parameters to integers\n",
    "rem_params['random_state'] = int(rem_params['random_state'])\n",
    "rem_params['n_jobs'] = int(rem_params['n_jobs'])\n",
    "rem_params['early_stopping_rounds'] = int(rem_params['early_stopping_rounds'])\n",
    "\n",
    "# retrain\n",
    "rem_ebm = ExplainableBoostingClassifier(**rem_params)\n",
    "rem_ebm.fit(train[rem_x_names], train[target])\n",
    "rem_ebm_perf = ROC(rem_ebm.predict_proba).explain_perf(valid[rem_x_names], valid[target])\n",
    "rem_auc = rem_ebm_perf._internal_obj['overall']['auc']\n",
    "print('Remediated EBM retrained with AUC: %.4f.' % rem_auc)"
   ]
  },
  {
   "cell_type": "markdown",
   "id": "6e130681-8c70-45e1-9114-044905264221",
   "metadata": {},
   "source": [
    "### Sensitivity Analysis: Stress Testing"
   ]
  },
  {
   "cell_type": "markdown",
   "id": "1f3177eb-0e27-4fc3-b4f0-868c92a51829",
   "metadata": {},
   "source": [
    "#### Simulate recession conditions in validation data"
   ]
  },
  {
   "cell_type": "code",
   "execution_count": 9,
   "id": "236115af-4bc0-4803-accb-0bc8dc2c745b",
   "metadata": {},
   "outputs": [
    {
     "name": "stderr",
     "output_type": "stream",
     "text": [
      "C:\\Users\\Jing\\AppData\\Local\\Temp\\ipykernel_15316\\1947458325.py:25: FutureWarning: Setting an item of incompatible dtype is deprecated and will raise an error in a future version of pandas. Value '[0. 0. 0. ... 0. 0. 0.]' has dtype incompatible with int64, please explicitly cast to a compatible dtype first.\n",
      "  rec_valid.loc[affected, 'debt_to_income_ratio_missing'] = rec_valid.loc[affected, 'debt_to_income_ratio_missing'] * 1.05\n"
     ]
    },
    {
     "data": {
      "image/png": "[encoded data removed]",
      "text/plain": [
       "<Figure size 1500x1500 with 9 Axes>"
      ]
     },
     "metadata": {},
     "output_type": "display_data"
    }
   ],
   "source": [
    "np.random.seed(SEED) \n",
    "\n",
    "rec_valid = valid.copy(deep=True) \n",
    "\n",
    "#Use severity variable to control how many customers are affected\n",
    "severity = 0.1\n",
    "affected = np.random.rand(len(rec_valid)) < severity\n",
    "\n",
    "#Shorter intro rate periods\n",
    "rec_valid.loc[affected, 'intro_rate_period_std'] = rec_valid.loc[affected, 'intro_rate_period_std'] * 0.95\n",
    "\n",
    "#5% higher debt-to-income ratios\n",
    "rec_valid.loc[affected, 'debt_to_income_ratio_std'] = rec_valid.loc[affected, 'debt_to_income_ratio_std'] * 1.05\n",
    "\n",
    "#More long loans\n",
    "rec_valid.loc[affected, 'term_360'] = 1\n",
    "\n",
    "#Decrease property values by 5%\n",
    "rec_valid.loc[affected, 'property_value_std'] = rec_valid.loc[affected, 'property_value_std'] * 0.95\n",
    "\n",
    "#lower income by 5%\n",
    "rec_valid.loc[affected, 'income_std'] = rec_valid.loc[affected, 'income_std'] * 0.95\n",
    "\n",
    "#5% higher debt-to-income ratios missing\n",
    "rec_valid.loc[affected, 'debt_to_income_ratio_missing'] = rec_valid.loc[affected, 'debt_to_income_ratio_missing'] * 1.05\n",
    "\n",
    "#Update target\n",
    "rec_valid.loc[affected, target] = np.random.choice(2, len(rec_valid.loc[affected, target]))\n",
    "\n",
    "#Visualize results\n",
    "_ = rec_valid[rem_x_names + [target]].hist(bins=50, figsize=(15, 15))"
   ]
  },
  {
   "cell_type": "markdown",
   "id": "9966d251-4c97-4f8a-aefb-1f0e531deca1",
   "metadata": {},
   "source": [
    "#### Find AUC for best model in simulated recession conditions"
   ]
  },
  {
   "cell_type": "code",
   "execution_count": 10,
   "id": "d37caf81-7cf2-4ca3-9681-dc74ac39a627",
   "metadata": {},
   "outputs": [
    {
     "name": "stdout",
     "output_type": "stream",
     "text": [
      "Remediated EBM retrained with AUC: 0.6940.\n"
     ]
    }
   ],
   "source": [
    "rec_rem_ebm_perf = ROC(rem_ebm.predict_proba).explain_perf(rec_valid[rem_x_names], rec_valid[target])\n",
    "rec_rem_auc = rec_rem_ebm_perf._internal_obj['overall']['auc']\n",
    "print('Remediated EBM retrained with AUC: %.4f.' % rec_rem_auc)"
   ]
  },
  {
   "cell_type": "markdown",
   "id": "ddf6260c-fed8-4fb0-ad1a-f6a14bd2fcac",
   "metadata": {},
   "source": [
    "### Residual Analysis"
   ]
  },
  {
   "cell_type": "markdown",
   "id": "2a583c38-212b-499a-abec-ca9fefa853ff",
   "metadata": {},
   "source": [
    "#### Calculate predictions and logloss residuals for all data"
   ]
  },
  {
   "cell_type": "code",
   "execution_count": 11,
   "id": "32266570-e84c-44de-8f11-474b793b84cc",
   "metadata": {},
   "outputs": [],
   "source": [
    "# shortcut names\n",
    "yhat_name = 'phat'\n",
    "r_name = 'r'\n",
    "\n",
    "# calculate predictions\n",
    "rem_ebm_phat = pd.DataFrame(rem_ebm.predict_proba(train_data[rem_x_names])[:, 1], columns=['phat'])\n",
    "rem_ebm_phat = pd.concat([train_data.reset_index(drop=True), rem_ebm_phat], axis=1)\n",
    "\n",
    "# calculate logloss residuals\n",
    "rem_ebm_phat[r_name] = -rem_ebm_phat[target]*np.log(rem_ebm_phat[yhat_name]) -\\\n",
    "                       (1 - rem_ebm_phat[target])*np.log(1 - rem_ebm_phat[yhat_name])"
   ]
  },
  {
   "cell_type": "markdown",
   "id": "612970c1-352d-4b14-aa6f-b3a9b3310c9b",
   "metadata": {},
   "source": [
    "#### Plot residuals"
   ]
  },
  {
   "cell_type": "code",
   "execution_count": 12,
   "id": "4cc9ee65-8329-468f-8e66-fecf3fe51515",
   "metadata": {},
   "outputs": [
    {
     "data": {
      "image/png": "[encoded data removed]",
      "text/plain": [
       "<Figure size 800x800 with 1 Axes>"
      ]
     },
     "metadata": {},
     "output_type": "display_data"
    }
   ],
   "source": [
    "# initialize figure\n",
    "fig, ax_ = plt.subplots(figsize=(8, 8))\n",
    "\n",
    "# plot groups with appropriate color\n",
    "color_list = ['royalblue', 'magenta']\n",
    "c_idx = 0\n",
    "groups = rem_ebm_phat.groupby(target) # define groups for levels of PAY_0\n",
    "for name, group in groups:\n",
    "    ax_.plot(group.phat, group.r,\n",
    "             label=' '.join([target, str(name)]),\n",
    "             marker='o', linestyle='', color=color_list[c_idx], alpha=0.3)\n",
    "    c_idx += 1\n",
    "\n",
    "# annotate plot\n",
    "_ = plt.xlabel(yhat_name)\n",
    "_ = plt.ylabel(r_name)\n",
    "_ = ax_.legend(loc=1)\n",
    "_ = plt.title('Global Logloss Residuals')"
   ]
  },
  {
   "cell_type": "markdown",
   "id": "86ee4d4e-35b2-4108-956e-0228d728dbf1",
   "metadata": {},
   "source": [
    "### Remediation: Remove Outliers"
   ]
  },
  {
   "cell_type": "markdown",
   "id": "fcc5b6b4-9d86-4f59-b10d-435ca3d5fe7c",
   "metadata": {},
   "source": [
    "#### Find outliers"
   ]
  },
  {
   "cell_type": "code",
   "execution_count": 13,
   "id": "c00526cb-55a3-49ed-9aef-2d52335dfaaa",
   "metadata": {},
   "outputs": [
    {
     "data": {
      "text/html": [
       "<div>\n",
       "<style scoped>\n",
       "    .dataframe tbody tr th:only-of-type {\n",
       "        vertical-align: middle;\n",
       "    }\n",
       "\n",
       "    .dataframe tbody tr th {\n",
       "        vertical-align: top;\n",
       "    }\n",
       "\n",
       "    .dataframe thead th {\n",
       "        text-align: right;\n",
       "    }\n",
       "</style>\n",
       "<table border=\"1\" class=\"dataframe\">\n",
       "  <thead>\n",
       "    <tr style=\"text-align: right;\">\n",
       "      <th></th>\n",
       "      <th>row_id</th>\n",
       "      <th>black</th>\n",
       "      <th>asian</th>\n",
       "      <th>white</th>\n",
       "      <th>amind</th>\n",
       "      <th>hipac</th>\n",
       "      <th>hispanic</th>\n",
       "      <th>non_hispanic</th>\n",
       "      <th>male</th>\n",
       "      <th>female</th>\n",
       "      <th>...</th>\n",
       "      <th>loan_amount_std</th>\n",
       "      <th>loan_to_value_ratio_std</th>\n",
       "      <th>no_intro_rate_period_std</th>\n",
       "      <th>intro_rate_period_std</th>\n",
       "      <th>property_value_std</th>\n",
       "      <th>income_std</th>\n",
       "      <th>debt_to_income_ratio_std</th>\n",
       "      <th>high_priced</th>\n",
       "      <th>phat</th>\n",
       "      <th>r</th>\n",
       "    </tr>\n",
       "  </thead>\n",
       "  <tbody>\n",
       "    <tr>\n",
       "      <th>66704</th>\n",
       "      <td>66704</td>\n",
       "      <td>0.0</td>\n",
       "      <td>0.0</td>\n",
       "      <td>1.0</td>\n",
       "      <td>0.0</td>\n",
       "      <td>0.0</td>\n",
       "      <td>0.0</td>\n",
       "      <td>1.0</td>\n",
       "      <td>NaN</td>\n",
       "      <td>NaN</td>\n",
       "      <td>...</td>\n",
       "      <td>0.716833</td>\n",
       "      <td>0.302372</td>\n",
       "      <td>-4.091747</td>\n",
       "      <td>14.263178</td>\n",
       "      <td>0.389111</td>\n",
       "      <td>-0.012935</td>\n",
       "      <td>0.854601</td>\n",
       "      <td>1</td>\n",
       "      <td>0.000389</td>\n",
       "      <td>7.852578</td>\n",
       "    </tr>\n",
       "    <tr>\n",
       "      <th>82041</th>\n",
       "      <td>82041</td>\n",
       "      <td>0.0</td>\n",
       "      <td>0.0</td>\n",
       "      <td>1.0</td>\n",
       "      <td>0.0</td>\n",
       "      <td>0.0</td>\n",
       "      <td>0.0</td>\n",
       "      <td>1.0</td>\n",
       "      <td>NaN</td>\n",
       "      <td>NaN</td>\n",
       "      <td>...</td>\n",
       "      <td>-0.954117</td>\n",
       "      <td>-2.973067</td>\n",
       "      <td>0.244394</td>\n",
       "      <td>-0.215304</td>\n",
       "      <td>0.697459</td>\n",
       "      <td>-0.052781</td>\n",
       "      <td>-0.425131</td>\n",
       "      <td>1</td>\n",
       "      <td>0.000749</td>\n",
       "      <td>7.196856</td>\n",
       "    </tr>\n",
       "    <tr>\n",
       "      <th>110822</th>\n",
       "      <td>110822</td>\n",
       "      <td>0.0</td>\n",
       "      <td>1.0</td>\n",
       "      <td>0.0</td>\n",
       "      <td>0.0</td>\n",
       "      <td>0.0</td>\n",
       "      <td>0.0</td>\n",
       "      <td>1.0</td>\n",
       "      <td>0.0</td>\n",
       "      <td>1.0</td>\n",
       "      <td>...</td>\n",
       "      <td>0.892723</td>\n",
       "      <td>-0.874794</td>\n",
       "      <td>0.244394</td>\n",
       "      <td>-0.215304</td>\n",
       "      <td>1.252485</td>\n",
       "      <td>-0.007738</td>\n",
       "      <td>-1.156406</td>\n",
       "      <td>1</td>\n",
       "      <td>0.000808</td>\n",
       "      <td>7.120847</td>\n",
       "    </tr>\n",
       "    <tr>\n",
       "      <th>71804</th>\n",
       "      <td>71804</td>\n",
       "      <td>0.0</td>\n",
       "      <td>0.0</td>\n",
       "      <td>1.0</td>\n",
       "      <td>0.0</td>\n",
       "      <td>0.0</td>\n",
       "      <td>0.0</td>\n",
       "      <td>1.0</td>\n",
       "      <td>NaN</td>\n",
       "      <td>NaN</td>\n",
       "      <td>...</td>\n",
       "      <td>0.409027</td>\n",
       "      <td>0.171903</td>\n",
       "      <td>-4.091747</td>\n",
       "      <td>4.610857</td>\n",
       "      <td>0.204102</td>\n",
       "      <td>-0.018133</td>\n",
       "      <td>0.214735</td>\n",
       "      <td>1</td>\n",
       "      <td>0.000954</td>\n",
       "      <td>6.955106</td>\n",
       "    </tr>\n",
       "    <tr>\n",
       "      <th>143877</th>\n",
       "      <td>143877</td>\n",
       "      <td>0.0</td>\n",
       "      <td>0.0</td>\n",
       "      <td>1.0</td>\n",
       "      <td>0.0</td>\n",
       "      <td>0.0</td>\n",
       "      <td>1.0</td>\n",
       "      <td>0.0</td>\n",
       "      <td>1.0</td>\n",
       "      <td>0.0</td>\n",
       "      <td>...</td>\n",
       "      <td>0.892723</td>\n",
       "      <td>-0.339083</td>\n",
       "      <td>0.244394</td>\n",
       "      <td>-0.215304</td>\n",
       "      <td>0.851633</td>\n",
       "      <td>-0.035110</td>\n",
       "      <td>1.037419</td>\n",
       "      <td>1</td>\n",
       "      <td>0.002181</td>\n",
       "      <td>6.128156</td>\n",
       "    </tr>\n",
       "  </tbody>\n",
       "</table>\n",
       "<p>5 rows × 25 columns</p>\n",
       "</div>"
      ],
      "text/plain": [
       "        row_id  black  asian  white  amind  hipac  hispanic  non_hispanic  \\\n",
       "66704    66704    0.0    0.0    1.0    0.0    0.0       0.0           1.0   \n",
       "82041    82041    0.0    0.0    1.0    0.0    0.0       0.0           1.0   \n",
       "110822  110822    0.0    1.0    0.0    0.0    0.0       0.0           1.0   \n",
       "71804    71804    0.0    0.0    1.0    0.0    0.0       0.0           1.0   \n",
       "143877  143877    0.0    0.0    1.0    0.0    0.0       1.0           0.0   \n",
       "\n",
       "        male  female  ...  loan_amount_std  loan_to_value_ratio_std  \\\n",
       "66704    NaN     NaN  ...         0.716833                 0.302372   \n",
       "82041    NaN     NaN  ...        -0.954117                -2.973067   \n",
       "110822   0.0     1.0  ...         0.892723                -0.874794   \n",
       "71804    NaN     NaN  ...         0.409027                 0.171903   \n",
       "143877   1.0     0.0  ...         0.892723                -0.339083   \n",
       "\n",
       "        no_intro_rate_period_std  intro_rate_period_std  property_value_std  \\\n",
       "66704                  -4.091747              14.263178            0.389111   \n",
       "82041                   0.244394              -0.215304            0.697459   \n",
       "110822                  0.244394              -0.215304            1.252485   \n",
       "71804                  -4.091747               4.610857            0.204102   \n",
       "143877                  0.244394              -0.215304            0.851633   \n",
       "\n",
       "        income_std  debt_to_income_ratio_std  high_priced      phat         r  \n",
       "66704    -0.012935                  0.854601            1  0.000389  7.852578  \n",
       "82041    -0.052781                 -0.425131            1  0.000749  7.196856  \n",
       "110822   -0.007738                 -1.156406            1  0.000808  7.120847  \n",
       "71804    -0.018133                  0.214735            1  0.000954  6.955106  \n",
       "143877   -0.035110                  1.037419            1  0.002181  6.128156  \n",
       "\n",
       "[5 rows x 25 columns]"
      ]
     },
     "execution_count": 13,
     "metadata": {},
     "output_type": "execute_result"
    }
   ],
   "source": [
    "rem_ebm_phat.sort_values(by='r', ascending=False).head()"
   ]
  },
  {
   "cell_type": "markdown",
   "id": "8e4d87cd-d0fb-4809-b828-af55e11b8664",
   "metadata": {},
   "source": [
    "### Remediation and Model Evaluation Loop"
   ]
  },
  {
   "cell_type": "code",
   "execution_count": 14,
   "id": "7a231710-3a8b-482c-be51-8f8dfad39bab",
   "metadata": {},
   "outputs": [],
   "source": [
    "# Remove worst outliers\n",
    "fixed_n_removes = [5, 10, 15, 20, 25]\n",
    "\n",
    "# Remediation: Down-sample to Increase Signal from High-priced Loans\n",
    "inverse_proportion_remove = [2, 4]\n",
    "\n",
    "results = []\n",
    "\n",
    "configs = [(n, i) for n in fixed_n_removes for i in inverse_proportion_remove]\n",
    "\n",
    "# Retrain remediated EBM and Test remediated EBM on true validation data\n",
    "for num_remove, inv_prop in configs:\n",
    "    rem_data = train_data.copy(deep=True)\n",
    "\n",
    "    drop_indices = rem_ebm_phat.sort_values(by='r', ascending=False).head(num_remove).index\n",
    "    rem_data.drop(drop_indices, axis=0, inplace=True)\n",
    "    rem_type = f\"Remove top {num_remove} samples\"\n",
    "\n",
    "    # Undersample negative class\n",
    "    drop_neg_indices = rem_data[rem_data[target] == 0].index[::inv_prop]\n",
    "    rem_data.drop(drop_neg_indices, axis=0, inplace=True)\n",
    "\n",
    "    np.random.seed(SEED)\n",
    "    split = np.random.rand(len(rem_data)) < split_ratio\n",
    "    rem_train = rem_data[split]\n",
    "    rem_valid = rem_data[~split]\n",
    "\n",
    "    rem_ebm2 = ExplainableBoostingClassifier(**rem_params)\n",
    "    rem_ebm2.fit(rem_train[rem_x_names], rem_train[target])\n",
    "\n",
    "    # Under-sampled AUC\n",
    "    rem_ebm_perf2 = ROC(rem_ebm2.predict_proba).explain_perf(rem_valid[rem_x_names], rem_valid[target])\n",
    "    rem_auc2 = rem_ebm_perf2._internal_obj['overall']['auc']\n",
    "\n",
    "    # True AUC\n",
    "    rem_ebm_perf3 = ROC(rem_ebm2.predict_proba).explain_perf(valid[rem_x_names], valid[target])\n",
    "    rem_auc3 = rem_ebm_perf3._internal_obj['overall']['auc']\n",
    "\n",
    "    # Store results\n",
    "    results.append({\n",
    "        \"Method\": rem_type,\n",
    "        \"InvPropRemove\": inv_prop,\n",
    "        \"Undersampled AUC\": rem_auc2,\n",
    "        \"True AUC\": rem_auc3\n",
    "    })"
   ]
  },
  {
   "cell_type": "markdown",
   "id": "0b7c6c82-ae16-44ee-b139-a899a0ded11f",
   "metadata": {},
   "source": [
    "#### Display and Sort AUCs"
   ]
  },
  {
   "cell_type": "code",
   "execution_count": 15,
   "id": "e100c855-f77f-4f9d-8048-acd0bb066339",
   "metadata": {},
   "outputs": [
    {
     "name": "stdout",
     "output_type": "stream",
     "text": [
      "               Method  InvPropRemove  Undersampled AUC  True AUC\n",
      "Remove top 15 samples              4          0.778688  0.787933\n",
      "Remove top 10 samples              2          0.776238  0.787870\n",
      "Remove top 10 samples              4          0.778569  0.787828\n",
      " Remove top 5 samples              4          0.780253  0.787822\n",
      "Remove top 25 samples              4          0.786278  0.787658\n",
      "Remove top 20 samples              4          0.783499  0.787376\n",
      "Remove top 15 samples              2          0.775796  0.787361\n",
      "Remove top 20 samples              2          0.777871  0.787090\n",
      "Remove top 25 samples              2          0.777813  0.786859\n",
      " Remove top 5 samples              2          0.779332  0.786706\n"
     ]
    }
   ],
   "source": [
    "results_df = pd.DataFrame(results)\n",
    "print(results_df.sort_values(by=\"True AUC\", ascending=False).to_string(index=False))"
   ]
  },
  {
   "cell_type": "markdown",
   "id": "b28a4222-542b-441e-9b01-b4d29cdaea87",
   "metadata": {},
   "source": [
    "#### Display Best Remediation Strategy"
   ]
  },
  {
   "cell_type": "code",
   "execution_count": 16,
   "id": "c9f279b5-7ecc-4710-b5a3-275c47841b50",
   "metadata": {},
   "outputs": [
    {
     "name": "stdout",
     "output_type": "stream",
     "text": [
      "Best Remediation Strategy:\n",
      "- Remove top 15 samples\n",
      "- Inverse Proportion Remove: 4\n",
      "- Under-sampled AUC: 0.7787\n",
      "- True AUC: 0.7879\n"
     ]
    }
   ],
   "source": [
    "best_row = results_df.loc[results_df[\"True AUC\"].idxmax()]\n",
    "print(\"Best Remediation Strategy:\")\n",
    "print(f\"- {best_row['Method']}\")\n",
    "print(f\"- Inverse Proportion Remove: {best_row['InvPropRemove']}\")\n",
    "print(f\"- Under-sampled AUC: {best_row['Undersampled AUC']:.4f}\")\n",
    "print(f\"- True AUC: {best_row['True AUC']:.4f}\")"
   ]
  },
  {
   "cell_type": "markdown",
   "id": "5bdca09c-cd41-4d64-9db2-ba74ae5760a2",
   "metadata": {},
   "source": [
    "#### End timer"
   ]
  },
  {
   "cell_type": "code",
   "execution_count": 17,
   "id": "c02746d6-f494-4159-bbe9-40f9ffc864d8",
   "metadata": {},
   "outputs": [
    {
     "name": "stdout",
     "output_type": "stream",
     "text": [
      "All tasks completed in 302.53 s.\n"
     ]
    }
   ],
   "source": [
    "toc = time.time() - tic\n",
    "print('All tasks completed in %.2f s.' % (toc))"
   ]
  },
  {
   "cell_type": "code",
   "execution_count": null,
   "id": "b0866175-4def-42a6-9a96-e3fe8f1bcd8b",
   "metadata": {},
   "outputs": [],
   "source": []
  }
 ],
 "metadata": {
  "kernelspec": {
   "display_name": "Python 3 (ipykernel)",
   "language": "python",
   "name": "python3"
  },
  "language_info": {
   "codemirror_mode": {
    "name": "ipython",
    "version": 3
   },
   "file_extension": ".py",
   "mimetype": "text/x-python",
   "name": "python",
   "nbconvert_exporter": "python",
   "pygments_lexer": "ipython3",
   "version": "3.12.3"
  }
 },
 "nbformat": 4,
 "nbformat_minor": 5
}
