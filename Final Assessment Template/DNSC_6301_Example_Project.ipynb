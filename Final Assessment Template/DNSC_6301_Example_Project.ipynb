{
  "nbformat": 4,
  "nbformat_minor": 0,
  "metadata": {
    "colab": {
      "name": "DNSC 6301 Example Project.ipynb",
      "provenance": [],
      "collapsed_sections": [],
      "include_colab_link": true
    },
    "kernelspec": {
      "display_name": "Python 3",
      "name": "python3"
    },
    "language_info": {
      "name": "python"
    }
  },
  "cells": [
    {
      "cell_type": "markdown",
      "metadata": {
        "id": "view-in-github",
        "colab_type": "text"
      },
      "source": [
        "<a href=\"https://colab.research.google.com/github/jphall663/GWU_DNSC_6301_project/blob/main/DNSC_6301_Example_Project.ipynb\" target=\"_parent\"><img src=\"https://colab.research.google.com/assets/colab-badge.svg\" alt=\"Open In Colab\"/></a>"
      ]
    },
    {
      "cell_type": "markdown",
      "metadata": {
        "id": "0MQHKGG9URD6"
      },
      "source": [
        "#### License\n",
        "\n",
        "MIT License\n",
        "\n",
        "Copyright (c) 2021 jphall@gwu.edu\n",
        "\n",
        "Permission is hereby granted, free of charge, to any person obtaining a copy\n",
        "of this software and associated documentation files (the \"Software\"), to deal\n",
        "in the Software without restriction, including without limitation the rights\n",
        "to use, copy, modify, merge, publish, distribute, sublicense, and/or sell\n",
        "copies of the Software, and to permit persons to whom the Software is\n",
        "furnished to do so, subject to the following conditions:\n",
        "\n",
        "The above copyright notice and this permission notice shall be included in all\n",
        "copies or substantial portions of the Software.\n",
        "\n",
        "THE SOFTWARE IS PROVIDED \"AS IS\", WITHOUT WARRANTY OF ANY KIND, EXPRESS OR\n",
        "IMPLIED, INCLUDING BUT NOT LIMITED TO THE WARRANTIES OF MERCHANTABILITY,\n",
        "FITNESS FOR A PARTICULAR PURPOSE AND NONINFRINGEMENT. IN NO EVENT SHALL THE\n",
        "AUTHORS OR COPYRIGHT HOLDERS BE LIABLE FOR ANY CLAIM, DAMAGES OR OTHER\n",
        "LIABILITY, WHETHER IN AN ACTION OF CONTRACT, TORT OR OTHERWISE, ARISING FROM,\n",
        "OUT OF OR IN CONNECTION WITH THE SOFTWARE OR THE USE OR OTHER DEALINGS IN THE\n",
        "SOFTWARE."
      ]
    },
    {
      "cell_type": "markdown",
      "metadata": {
        "id": "5oMMwH7bFBgJ"
      },
      "source": [
        "#### Pythons imports"
      ]
    },
    {
      "cell_type": "code",
      "metadata": {
        "id": "aDSyJ6mMC2MJ"
      },
      "source": [
        "from sklearn import tree                                  # sklearn tree model for decision trees\n",
        "from sklearn.model_selection import train_test_split      # for partitioning data\n",
        "from sklearn.model_selection import cross_val_score       # for cross validation\n",
        "from sklearn.metrics import roc_auc_score, accuracy_score # to assess decision tree perforamce\n",
        "\n",
        "# to upload local files\n",
        "import io\n",
        "from google.colab import files             \n",
        "\n",
        "import numpy as np                                   # array, vector, matrix calculations\n",
        "import pandas as pd                                  # dataFrame handling\n",
        "\n",
        "from matplotlib import pyplot as plt                 # plotting\n",
        "import seaborn as sns                                # slightly better plotting  \n",
        "\n",
        "SEED = 12345                                         # ALWAYS use a random seed for better reproducibility"
      ],
      "execution_count": 1,
      "outputs": []
    },
    {
      "cell_type": "code",
      "metadata": {
        "colab": {
          "base_uri": "https://localhost:8080/"
        },
        "id": "-OvfnW56LJaa",
        "outputId": "d6b5a7ad-6c16-4eb5-be5f-6e266cd89b34"
      },
      "source": [
        "# print version information \n",
        "import sys\n",
        "import sklearn\n",
        "version = \".\".join(map(str, sys.version_info[:3]))\n",
        "print('Python version:', version)\n",
        "print('sklearn version:', sklearn.__version__)"
      ],
      "execution_count": 2,
      "outputs": [
        {
          "output_type": "stream",
          "name": "stdout",
          "text": [
            "Python version: 3.7.13\n",
            "sklearn version: 1.0.2\n"
          ]
        }
      ]
    },
    {
      "cell_type": "markdown",
      "metadata": {
        "id": "QGcJPjJfFJu8"
      },
      "source": [
        "### Upload training data"
      ]
    },
    {
      "cell_type": "code",
      "metadata": {
        "colab": {
          "resources": {
            "http://localhost:8080/nbextensions/google.colab/files.js": {
              "data": "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",
              "ok": true,
              "headers": [
                [
                  "content-type",
                  "application/javascript"
                ]
              ],
              "status": 200,
              "status_text": ""
            }
          },
          "base_uri": "https://localhost:8080/",
          "height": 74
        },
        "id": "YLTMkO6iDAqQ",
        "outputId": "d70716be-f92d-4c86-c2ce-839feedc803b"
      },
      "source": [
        " # special google collab command to upload a file from computer\n",
        "uploaded = files.upload()"
      ],
      "execution_count": 3,
      "outputs": [
        {
          "output_type": "display_data",
          "data": {
            "text/plain": [
              "<IPython.core.display.HTML object>"
            ],
            "text/html": [
              "\n",
              "     <input type=\"file\" id=\"files-72502d65-ff21-43e8-82ea-420875102e26\" name=\"files[]\" multiple disabled\n",
              "        style=\"border:none\" />\n",
              "     <output id=\"result-72502d65-ff21-43e8-82ea-420875102e26\">\n",
              "      Upload widget is only available when the cell has been executed in the\n",
              "      current browser session. Please rerun this cell to enable.\n",
              "      </output>\n",
              "      <script src=\"/nbextensions/google.colab/files.js\"></script> "
            ]
          },
          "metadata": {}
        },
        {
          "output_type": "stream",
          "name": "stdout",
          "text": [
            "Saving credit_line_increase.csv to credit_line_increase.csv\n"
          ]
        }
      ]
    },
    {
      "cell_type": "code",
      "metadata": {
        "colab": {
          "base_uri": "https://localhost:8080/"
        },
        "id": "hC7MIig3Okiz",
        "outputId": "3f3f6f85-181e-4b8c-f1af-a4fdae947be2"
      },
      "source": [
        "type(uploaded) # what kind of Python object did we just create?"
      ],
      "execution_count": 4,
      "outputs": [
        {
          "output_type": "execute_result",
          "data": {
            "text/plain": [
              "dict"
            ]
          },
          "metadata": {},
          "execution_count": 4
        }
      ]
    },
    {
      "cell_type": "code",
      "metadata": {
        "colab": {
          "base_uri": "https://localhost:8080/"
        },
        "id": "EUygRjvYG5tm",
        "outputId": "7f4fd1ed-ba51-4d0d-f5c8-6d172b739087"
      },
      "source": [
        "uploaded.keys() # what is stored in that Python object?"
      ],
      "execution_count": 5,
      "outputs": [
        {
          "output_type": "execute_result",
          "data": {
            "text/plain": [
              "dict_keys(['credit_line_increase.csv'])"
            ]
          },
          "metadata": {},
          "execution_count": 5
        }
      ]
    },
    {
      "cell_type": "code",
      "metadata": {
        "id": "_zXcDyjcHcXn"
      },
      "source": [
        "# read uploaded data into a pandas dataframe\n",
        "data = pd.read_csv(io.StringIO(uploaded['credit_line_increase.csv'].decode('utf-8')))"
      ],
      "execution_count": 6,
      "outputs": []
    },
    {
      "cell_type": "markdown",
      "metadata": {
        "id": "aRPWFxeaQpY3"
      },
      "source": [
        "#### Data Dictionary\n",
        "\n",
        "| Name | Modeling Role | Measurement Level| Description|\n",
        "| ---- | ------------- | ---------------- | ---------- |\n",
        "|**ID**| ID | int | unique row indentifier |\n",
        "| **LIMIT_BAL** | input | float | amount of previously awarded credit |\n",
        "| **SEX** | demographic information | int | 1 = male; 2 = female\n",
        "| **RACE** | demographic information | int | 1 = hispanic; 2 = black; 3 = white; 4 = asian |\n",
        "| **EDUCATION** | demographic information | int | 1 = graduate school; 2 = university; 3 = high school; 4 = others |\n",
        "| **MARRIAGE** | demographic information | int | 1 = married; 2 = single; 3 = others |\n",
        "| **AGE** | demographic information | int | age in years |\n",
        "| **PAY_0, PAY_2 - PAY_6** | inputs | int | history of past payment; PAY_0 = the repayment status in September, 2005; PAY_2 = the repayment status in August, 2005; ...; PAY_6 = the repayment status in April, 2005. The measurement scale for the repayment status is: -1 = pay duly; 1 = payment delay for one month; 2 = payment delay for two months; ...; 8 = payment delay for eight months; 9 = payment delay for nine months and above |\n",
        "| **BILL_AMT1 - BILL_AMT6** | inputs | float | amount of bill statement; BILL_AMNT1 = amount of bill statement in September, 2005; BILL_AMT2 = amount of bill statement in August, 2005; ...; BILL_AMT6 = amount of bill statement in April, 2005 |\n",
        "| **PAY_AMT1 - PAY_AMT6** | inputs | float | amount of previous payment; PAY_AMT1 = amount paid in September, 2005; PAY_AMT2 = amount paid in August, 2005; ...; PAY_AMT6 = amount paid in April, 2005 |\n",
        "| **DELINQ_NEXT**| target | int | whether a customer's next payment is delinquent (late), 1 = late; 0 = on-time |"
      ]
    },
    {
      "cell_type": "markdown",
      "metadata": {
        "id": "X3dOZrjLOwto"
      },
      "source": [
        "#### Basic Data Analysis"
      ]
    },
    {
      "cell_type": "code",
      "metadata": {
        "colab": {
          "base_uri": "https://localhost:8080/"
        },
        "id": "SdRL5g1ZPA7J",
        "outputId": "76062741-2906-4e16-d1fc-c333eef155ff"
      },
      "source": [
        "data.shape # (rows,columns)"
      ],
      "execution_count": 7,
      "outputs": [
        {
          "output_type": "execute_result",
          "data": {
            "text/plain": [
              "(30000, 26)"
            ]
          },
          "metadata": {},
          "execution_count": 7
        }
      ]
    },
    {
      "cell_type": "code",
      "metadata": {
        "colab": {
          "base_uri": "https://localhost:8080/"
        },
        "id": "KAMxIqPjOzq8",
        "outputId": "47a39bb8-c2b9-4748-9a54-8487e4cd9f58"
      },
      "source": [
        "data.columns # names of columns"
      ],
      "execution_count": 8,
      "outputs": [
        {
          "output_type": "execute_result",
          "data": {
            "text/plain": [
              "Index(['ID', 'LIMIT_BAL', 'SEX', 'RACE', 'EDUCATION', 'MARRIAGE', 'AGE',\n",
              "       'PAY_0', 'PAY_2', 'PAY_3', 'PAY_4', 'PAY_5', 'PAY_6', 'BILL_AMT1',\n",
              "       'BILL_AMT2', 'BILL_AMT3', 'BILL_AMT4', 'BILL_AMT5', 'BILL_AMT6',\n",
              "       'PAY_AMT1', 'PAY_AMT2', 'PAY_AMT3', 'PAY_AMT4', 'PAY_AMT5', 'PAY_AMT6',\n",
              "       'DELINQ_NEXT'],\n",
              "      dtype='object')"
            ]
          },
          "metadata": {},
          "execution_count": 8
        }
      ]
    },
    {
      "cell_type": "code",
      "metadata": {
        "colab": {
          "base_uri": "https://localhost:8080/"
        },
        "id": "jJnO2okbPLmH",
        "outputId": "5d6e885e-8a22-49f3-da08-9ba029df2a7f"
      },
      "source": [
        "data.isnull().any() # check for missing values"
      ],
      "execution_count": 9,
      "outputs": [
        {
          "output_type": "execute_result",
          "data": {
            "text/plain": [
              "ID             False\n",
              "LIMIT_BAL      False\n",
              "SEX            False\n",
              "RACE           False\n",
              "EDUCATION      False\n",
              "MARRIAGE       False\n",
              "AGE            False\n",
              "PAY_0          False\n",
              "PAY_2          False\n",
              "PAY_3          False\n",
              "PAY_4          False\n",
              "PAY_5          False\n",
              "PAY_6          False\n",
              "BILL_AMT1      False\n",
              "BILL_AMT2      False\n",
              "BILL_AMT3      False\n",
              "BILL_AMT4      False\n",
              "BILL_AMT5      False\n",
              "BILL_AMT6      False\n",
              "PAY_AMT1       False\n",
              "PAY_AMT2       False\n",
              "PAY_AMT3       False\n",
              "PAY_AMT4       False\n",
              "PAY_AMT5       False\n",
              "PAY_AMT6       False\n",
              "DELINQ_NEXT    False\n",
              "dtype: bool"
            ]
          },
          "metadata": {},
          "execution_count": 9
        }
      ]
    },
    {
      "cell_type": "code",
      "metadata": {
        "colab": {
          "base_uri": "https://localhost:8080/",
          "height": 394
        },
        "id": "7Sxvy6N9OnGI",
        "outputId": "474aa7d9-3cb9-42c2-e8f7-c69eee193e30"
      },
      "source": [
        "data.describe() # basic descriptive statistics"
      ],
      "execution_count": 10,
      "outputs": [
        {
          "output_type": "execute_result",
          "data": {
            "text/plain": [
              "                 ID       LIMIT_BAL           SEX          RACE     EDUCATION  \\\n",
              "count  30000.000000    30000.000000  30000.000000  30000.000000  30000.000000   \n",
              "mean   15000.500000   167484.322667      1.603733      2.721967      1.853133   \n",
              "std     8660.398374   129747.661567      0.489129      1.094397      0.790349   \n",
              "min        1.000000    10000.000000      1.000000      1.000000      0.000000   \n",
              "25%     7500.750000    50000.000000      1.000000      2.000000      1.000000   \n",
              "50%    15000.500000   140000.000000      2.000000      3.000000      2.000000   \n",
              "75%    22500.250000   240000.000000      2.000000      4.000000      2.000000   \n",
              "max    30000.000000  1000000.000000      2.000000      4.000000      6.000000   \n",
              "\n",
              "           MARRIAGE           AGE         PAY_0         PAY_2         PAY_3  \\\n",
              "count  30000.000000  30000.000000  30000.000000  30000.000000  30000.000000   \n",
              "mean       1.551867     35.485500     -0.016700     -0.133767     -0.166200   \n",
              "std        0.521970      9.217904      1.123802      1.197186      1.196868   \n",
              "min        0.000000     21.000000     -2.000000     -2.000000     -2.000000   \n",
              "25%        1.000000     28.000000     -1.000000     -1.000000     -1.000000   \n",
              "50%        2.000000     34.000000      0.000000      0.000000      0.000000   \n",
              "75%        2.000000     41.000000      0.000000      0.000000      0.000000   \n",
              "max        3.000000     79.000000      8.000000      8.000000      8.000000   \n",
              "\n",
              "       ...      BILL_AMT4      BILL_AMT5      BILL_AMT6       PAY_AMT1  \\\n",
              "count  ...   30000.000000   30000.000000   30000.000000   30000.000000   \n",
              "mean   ...   43262.948967   40311.400967   38871.760400    5663.580500   \n",
              "std    ...   64332.856134   60797.155770   59554.107537   16563.280354   \n",
              "min    ... -170000.000000  -81334.000000 -339603.000000       0.000000   \n",
              "25%    ...    2326.750000    1763.000000    1256.000000    1000.000000   \n",
              "50%    ...   19052.000000   18104.500000   17071.000000    2100.000000   \n",
              "75%    ...   54506.000000   50190.500000   49198.250000    5006.000000   \n",
              "max    ...  891586.000000  927171.000000  961664.000000  873552.000000   \n",
              "\n",
              "           PAY_AMT2      PAY_AMT3       PAY_AMT4       PAY_AMT5  \\\n",
              "count  3.000000e+04   30000.00000   30000.000000   30000.000000   \n",
              "mean   5.921163e+03    5225.68150    4826.076867    4799.387633   \n",
              "std    2.304087e+04   17606.96147   15666.159744   15278.305679   \n",
              "min    0.000000e+00       0.00000       0.000000       0.000000   \n",
              "25%    8.330000e+02     390.00000     296.000000     252.500000   \n",
              "50%    2.009000e+03    1800.00000    1500.000000    1500.000000   \n",
              "75%    5.000000e+03    4505.00000    4013.250000    4031.500000   \n",
              "max    1.684259e+06  896040.00000  621000.000000  426529.000000   \n",
              "\n",
              "            PAY_AMT6   DELINQ_NEXT  \n",
              "count   30000.000000  30000.000000  \n",
              "mean     5215.502567      0.221200  \n",
              "std     17777.465775      0.415062  \n",
              "min         0.000000      0.000000  \n",
              "25%       117.750000      0.000000  \n",
              "50%      1500.000000      0.000000  \n",
              "75%      4000.000000      0.000000  \n",
              "max    528666.000000      1.000000  \n",
              "\n",
              "[8 rows x 26 columns]"
            ],
            "text/html": [
              "\n",
              "  <div id=\"df-10607c2d-41d3-4366-ac5d-1c02da1a237a\">\n",
              "    <div class=\"colab-df-container\">\n",
              "      <div>\n",
              "<style scoped>\n",
              "    .dataframe tbody tr th:only-of-type {\n",
              "        vertical-align: middle;\n",
              "    }\n",
              "\n",
              "    .dataframe tbody tr th {\n",
              "        vertical-align: top;\n",
              "    }\n",
              "\n",
              "    .dataframe thead th {\n",
              "        text-align: right;\n",
              "    }\n",
              "</style>\n",
              "<table border=\"1\" class=\"dataframe\">\n",
              "  <thead>\n",
              "    <tr style=\"text-align: right;\">\n",
              "      <th></th>\n",
              "      <th>ID</th>\n",
              "      <th>LIMIT_BAL</th>\n",
              "      <th>SEX</th>\n",
              "      <th>RACE</th>\n",
              "      <th>EDUCATION</th>\n",
              "      <th>MARRIAGE</th>\n",
              "      <th>AGE</th>\n",
              "      <th>PAY_0</th>\n",
              "      <th>PAY_2</th>\n",
              "      <th>PAY_3</th>\n",
              "      <th>...</th>\n",
              "      <th>BILL_AMT4</th>\n",
              "      <th>BILL_AMT5</th>\n",
              "      <th>BILL_AMT6</th>\n",
              "      <th>PAY_AMT1</th>\n",
              "      <th>PAY_AMT2</th>\n",
              "      <th>PAY_AMT3</th>\n",
              "      <th>PAY_AMT4</th>\n",
              "      <th>PAY_AMT5</th>\n",
              "      <th>PAY_AMT6</th>\n",
              "      <th>DELINQ_NEXT</th>\n",
              "    </tr>\n",
              "  </thead>\n",
              "  <tbody>\n",
              "    <tr>\n",
              "      <th>count</th>\n",
              "      <td>30000.000000</td>\n",
              "      <td>30000.000000</td>\n",
              "      <td>30000.000000</td>\n",
              "      <td>30000.000000</td>\n",
              "      <td>30000.000000</td>\n",
              "      <td>30000.000000</td>\n",
              "      <td>30000.000000</td>\n",
              "      <td>30000.000000</td>\n",
              "      <td>30000.000000</td>\n",
              "      <td>30000.000000</td>\n",
              "      <td>...</td>\n",
              "      <td>30000.000000</td>\n",
              "      <td>30000.000000</td>\n",
              "      <td>30000.000000</td>\n",
              "      <td>30000.000000</td>\n",
              "      <td>3.000000e+04</td>\n",
              "      <td>30000.00000</td>\n",
              "      <td>30000.000000</td>\n",
              "      <td>30000.000000</td>\n",
              "      <td>30000.000000</td>\n",
              "      <td>30000.000000</td>\n",
              "    </tr>\n",
              "    <tr>\n",
              "      <th>mean</th>\n",
              "      <td>15000.500000</td>\n",
              "      <td>167484.322667</td>\n",
              "      <td>1.603733</td>\n",
              "      <td>2.721967</td>\n",
              "      <td>1.853133</td>\n",
              "      <td>1.551867</td>\n",
              "      <td>35.485500</td>\n",
              "      <td>-0.016700</td>\n",
              "      <td>-0.133767</td>\n",
              "      <td>-0.166200</td>\n",
              "      <td>...</td>\n",
              "      <td>43262.948967</td>\n",
              "      <td>40311.400967</td>\n",
              "      <td>38871.760400</td>\n",
              "      <td>5663.580500</td>\n",
              "      <td>5.921163e+03</td>\n",
              "      <td>5225.68150</td>\n",
              "      <td>4826.076867</td>\n",
              "      <td>4799.387633</td>\n",
              "      <td>5215.502567</td>\n",
              "      <td>0.221200</td>\n",
              "    </tr>\n",
              "    <tr>\n",
              "      <th>std</th>\n",
              "      <td>8660.398374</td>\n",
              "      <td>129747.661567</td>\n",
              "      <td>0.489129</td>\n",
              "      <td>1.094397</td>\n",
              "      <td>0.790349</td>\n",
              "      <td>0.521970</td>\n",
              "      <td>9.217904</td>\n",
              "      <td>1.123802</td>\n",
              "      <td>1.197186</td>\n",
              "      <td>1.196868</td>\n",
              "      <td>...</td>\n",
              "      <td>64332.856134</td>\n",
              "      <td>60797.155770</td>\n",
              "      <td>59554.107537</td>\n",
              "      <td>16563.280354</td>\n",
              "      <td>2.304087e+04</td>\n",
              "      <td>17606.96147</td>\n",
              "      <td>15666.159744</td>\n",
              "      <td>15278.305679</td>\n",
              "      <td>17777.465775</td>\n",
              "      <td>0.415062</td>\n",
              "    </tr>\n",
              "    <tr>\n",
              "      <th>min</th>\n",
              "      <td>1.000000</td>\n",
              "      <td>10000.000000</td>\n",
              "      <td>1.000000</td>\n",
              "      <td>1.000000</td>\n",
              "      <td>0.000000</td>\n",
              "      <td>0.000000</td>\n",
              "      <td>21.000000</td>\n",
              "      <td>-2.000000</td>\n",
              "      <td>-2.000000</td>\n",
              "      <td>-2.000000</td>\n",
              "      <td>...</td>\n",
              "      <td>-170000.000000</td>\n",
              "      <td>-81334.000000</td>\n",
              "      <td>-339603.000000</td>\n",
              "      <td>0.000000</td>\n",
              "      <td>0.000000e+00</td>\n",
              "      <td>0.00000</td>\n",
              "      <td>0.000000</td>\n",
              "      <td>0.000000</td>\n",
              "      <td>0.000000</td>\n",
              "      <td>0.000000</td>\n",
              "    </tr>\n",
              "    <tr>\n",
              "      <th>25%</th>\n",
              "      <td>7500.750000</td>\n",
              "      <td>50000.000000</td>\n",
              "      <td>1.000000</td>\n",
              "      <td>2.000000</td>\n",
              "      <td>1.000000</td>\n",
              "      <td>1.000000</td>\n",
              "      <td>28.000000</td>\n",
              "      <td>-1.000000</td>\n",
              "      <td>-1.000000</td>\n",
              "      <td>-1.000000</td>\n",
              "      <td>...</td>\n",
              "      <td>2326.750000</td>\n",
              "      <td>1763.000000</td>\n",
              "      <td>1256.000000</td>\n",
              "      <td>1000.000000</td>\n",
              "      <td>8.330000e+02</td>\n",
              "      <td>390.00000</td>\n",
              "      <td>296.000000</td>\n",
              "      <td>252.500000</td>\n",
              "      <td>117.750000</td>\n",
              "      <td>0.000000</td>\n",
              "    </tr>\n",
              "    <tr>\n",
              "      <th>50%</th>\n",
              "      <td>15000.500000</td>\n",
              "      <td>140000.000000</td>\n",
              "      <td>2.000000</td>\n",
              "      <td>3.000000</td>\n",
              "      <td>2.000000</td>\n",
              "      <td>2.000000</td>\n",
              "      <td>34.000000</td>\n",
              "      <td>0.000000</td>\n",
              "      <td>0.000000</td>\n",
              "      <td>0.000000</td>\n",
              "      <td>...</td>\n",
              "      <td>19052.000000</td>\n",
              "      <td>18104.500000</td>\n",
              "      <td>17071.000000</td>\n",
              "      <td>2100.000000</td>\n",
              "      <td>2.009000e+03</td>\n",
              "      <td>1800.00000</td>\n",
              "      <td>1500.000000</td>\n",
              "      <td>1500.000000</td>\n",
              "      <td>1500.000000</td>\n",
              "      <td>0.000000</td>\n",
              "    </tr>\n",
              "    <tr>\n",
              "      <th>75%</th>\n",
              "      <td>22500.250000</td>\n",
              "      <td>240000.000000</td>\n",
              "      <td>2.000000</td>\n",
              "      <td>4.000000</td>\n",
              "      <td>2.000000</td>\n",
              "      <td>2.000000</td>\n",
              "      <td>41.000000</td>\n",
              "      <td>0.000000</td>\n",
              "      <td>0.000000</td>\n",
              "      <td>0.000000</td>\n",
              "      <td>...</td>\n",
              "      <td>54506.000000</td>\n",
              "      <td>50190.500000</td>\n",
              "      <td>49198.250000</td>\n",
              "      <td>5006.000000</td>\n",
              "      <td>5.000000e+03</td>\n",
              "      <td>4505.00000</td>\n",
              "      <td>4013.250000</td>\n",
              "      <td>4031.500000</td>\n",
              "      <td>4000.000000</td>\n",
              "      <td>0.000000</td>\n",
              "    </tr>\n",
              "    <tr>\n",
              "      <th>max</th>\n",
              "      <td>30000.000000</td>\n",
              "      <td>1000000.000000</td>\n",
              "      <td>2.000000</td>\n",
              "      <td>4.000000</td>\n",
              "      <td>6.000000</td>\n",
              "      <td>3.000000</td>\n",
              "      <td>79.000000</td>\n",
              "      <td>8.000000</td>\n",
              "      <td>8.000000</td>\n",
              "      <td>8.000000</td>\n",
              "      <td>...</td>\n",
              "      <td>891586.000000</td>\n",
              "      <td>927171.000000</td>\n",
              "      <td>961664.000000</td>\n",
              "      <td>873552.000000</td>\n",
              "      <td>1.684259e+06</td>\n",
              "      <td>896040.00000</td>\n",
              "      <td>621000.000000</td>\n",
              "      <td>426529.000000</td>\n",
              "      <td>528666.000000</td>\n",
              "      <td>1.000000</td>\n",
              "    </tr>\n",
              "  </tbody>\n",
              "</table>\n",
              "<p>8 rows × 26 columns</p>\n",
              "</div>\n",
              "      <button class=\"colab-df-convert\" onclick=\"convertToInteractive('df-10607c2d-41d3-4366-ac5d-1c02da1a237a')\"\n",
              "              title=\"Convert this dataframe to an interactive table.\"\n",
              "              style=\"display:none;\">\n",
              "        \n",
              "  <svg xmlns=\"http://www.w3.org/2000/svg\" height=\"24px\"viewBox=\"0 0 24 24\"\n",
              "       width=\"24px\">\n",
              "    <path d=\"M0 0h24v24H0V0z\" fill=\"none\"/>\n",
              "    <path d=\"M18.56 5.44l.94 2.06.94-2.06 2.06-.94-2.06-.94-.94-2.06-.94 2.06-2.06.94zm-11 1L8.5 8.5l.94-2.06 2.06-.94-2.06-.94L8.5 2.5l-.94 2.06-2.06.94zm10 10l.94 2.06.94-2.06 2.06-.94-2.06-.94-.94-2.06-.94 2.06-2.06.94z\"/><path d=\"M17.41 7.96l-1.37-1.37c-.4-.4-.92-.59-1.43-.59-.52 0-1.04.2-1.43.59L10.3 9.45l-7.72 7.72c-.78.78-.78 2.05 0 2.83L4 21.41c.39.39.9.59 1.41.59.51 0 1.02-.2 1.41-.59l7.78-7.78 2.81-2.81c.8-.78.8-2.07 0-2.86zM5.41 20L4 18.59l7.72-7.72 1.47 1.35L5.41 20z\"/>\n",
              "  </svg>\n",
              "      </button>\n",
              "      \n",
              "  <style>\n",
              "    .colab-df-container {\n",
              "      display:flex;\n",
              "      flex-wrap:wrap;\n",
              "      gap: 12px;\n",
              "    }\n",
              "\n",
              "    .colab-df-convert {\n",
              "      background-color: #E8F0FE;\n",
              "      border: none;\n",
              "      border-radius: 50%;\n",
              "      cursor: pointer;\n",
              "      display: none;\n",
              "      fill: #1967D2;\n",
              "      height: 32px;\n",
              "      padding: 0 0 0 0;\n",
              "      width: 32px;\n",
              "    }\n",
              "\n",
              "    .colab-df-convert:hover {\n",
              "      background-color: #E2EBFA;\n",
              "      box-shadow: 0px 1px 2px rgba(60, 64, 67, 0.3), 0px 1px 3px 1px rgba(60, 64, 67, 0.15);\n",
              "      fill: #174EA6;\n",
              "    }\n",
              "\n",
              "    [theme=dark] .colab-df-convert {\n",
              "      background-color: #3B4455;\n",
              "      fill: #D2E3FC;\n",
              "    }\n",
              "\n",
              "    [theme=dark] .colab-df-convert:hover {\n",
              "      background-color: #434B5C;\n",
              "      box-shadow: 0px 1px 3px 1px rgba(0, 0, 0, 0.15);\n",
              "      filter: drop-shadow(0px 1px 2px rgba(0, 0, 0, 0.3));\n",
              "      fill: #FFFFFF;\n",
              "    }\n",
              "  </style>\n",
              "\n",
              "      <script>\n",
              "        const buttonEl =\n",
              "          document.querySelector('#df-10607c2d-41d3-4366-ac5d-1c02da1a237a button.colab-df-convert');\n",
              "        buttonEl.style.display =\n",
              "          google.colab.kernel.accessAllowed ? 'block' : 'none';\n",
              "\n",
              "        async function convertToInteractive(key) {\n",
              "          const element = document.querySelector('#df-10607c2d-41d3-4366-ac5d-1c02da1a237a');\n",
              "          const dataTable =\n",
              "            await google.colab.kernel.invokeFunction('convertToInteractive',\n",
              "                                                     [key], {});\n",
              "          if (!dataTable) return;\n",
              "\n",
              "          const docLinkHtml = 'Like what you see? Visit the ' +\n",
              "            '<a target=\"_blank\" href=https://colab.research.google.com/notebooks/data_table.ipynb>data table notebook</a>'\n",
              "            + ' to learn more about interactive tables.';\n",
              "          element.innerHTML = '';\n",
              "          dataTable['output_type'] = 'display_data';\n",
              "          await google.colab.output.renderOutput(dataTable, element);\n",
              "          const docLink = document.createElement('div');\n",
              "          docLink.innerHTML = docLinkHtml;\n",
              "          element.appendChild(docLink);\n",
              "        }\n",
              "      </script>\n",
              "    </div>\n",
              "  </div>\n",
              "  "
            ]
          },
          "metadata": {},
          "execution_count": 10
        }
      ]
    },
    {
      "cell_type": "markdown",
      "metadata": {
        "id": "z4xe1akcCguS"
      },
      "source": [
        ""
      ]
    },
    {
      "cell_type": "code",
      "metadata": {
        "id": "TeDlVfwtO3AX",
        "colab": {
          "base_uri": "https://localhost:8080/",
          "height": 641
        },
        "outputId": "885c2366-2b9e-411a-d2fa-8037286e4260"
      },
      "source": [
        "_ = data[data.columns].hist(bins=50, figsize=(15, 15)) # display histograms"
      ],
      "execution_count": 11,
      "outputs": [
        {
          "output_type": "display_data",
          "data": {
            "text/plain": [
              "<Figure size 1080x1080 with 30 Axes>"
            ],
            "image/png": "[encoded data removed]"
          },
          "metadata": {
            "needs_background": "light"
          }
        }
      ]
    },
    {
      "cell_type": "code",
      "metadata": {
        "colab": {
          "base_uri": "https://localhost:8080/",
          "height": 958
        },
        "id": "wgtq4WrhPFxX",
        "outputId": "6ec3ab96-195d-405c-9f51-7f69259698fa"
      },
      "source": [
        "# Pearson correlation matrix\n",
        "corr = data.corr() \n",
        "corr"
      ],
      "execution_count": 12,
      "outputs": [
        {
          "output_type": "execute_result",
          "data": {
            "text/plain": [
              "                   ID  LIMIT_BAL       SEX      RACE  EDUCATION  MARRIAGE  \\\n",
              "ID           1.000000   0.026179  0.018497 -0.000710   0.039177 -0.029079   \n",
              "LIMIT_BAL    0.026179   1.000000  0.024755  0.044173  -0.219161 -0.108139   \n",
              "SEX          0.018497   0.024755  1.000000  0.006149   0.014232 -0.031389   \n",
              "RACE        -0.000710   0.044173  0.006149  1.000000  -0.012796  0.007010   \n",
              "EDUCATION    0.039177  -0.219161  0.014232 -0.012796   1.000000 -0.143464   \n",
              "MARRIAGE    -0.029079  -0.108139 -0.031389  0.007010  -0.143464  1.000000   \n",
              "AGE          0.018678   0.144713 -0.090874  0.001284   0.175061 -0.414170   \n",
              "PAY_0       -0.030575  -0.271214 -0.057643 -0.102487   0.105364  0.019917   \n",
              "PAY_2       -0.011215  -0.296382 -0.070771 -0.082986   0.121566  0.024199   \n",
              "PAY_3       -0.018494  -0.286123 -0.066096 -0.074547   0.114025  0.032688   \n",
              "PAY_4       -0.002735  -0.267460 -0.060173 -0.072259   0.108793  0.033122   \n",
              "PAY_5       -0.022199  -0.249411 -0.055064 -0.067316   0.097520  0.035629   \n",
              "PAY_6       -0.020270  -0.235195 -0.044008 -0.054935   0.082316  0.034345   \n",
              "BILL_AMT1    0.019389   0.285430 -0.033642  0.004232   0.023581 -0.023472   \n",
              "BILL_AMT2    0.017982   0.278314 -0.031183  0.002459   0.018749 -0.021602   \n",
              "BILL_AMT3    0.024354   0.283236 -0.024563  0.000543   0.013002 -0.024909   \n",
              "BILL_AMT4    0.040351   0.293988 -0.021880  0.000376  -0.000451 -0.023344   \n",
              "BILL_AMT5    0.016705   0.295562 -0.017005  0.002096  -0.007567 -0.025393   \n",
              "BILL_AMT6    0.016730   0.290389 -0.016733  0.002756  -0.009099 -0.021207   \n",
              "PAY_AMT1     0.009742   0.195236 -0.000242  0.030069  -0.037456 -0.005979   \n",
              "PAY_AMT2     0.008406   0.178408 -0.001391  0.012681  -0.030038 -0.008093   \n",
              "PAY_AMT3     0.039151   0.210167 -0.008597  0.021854  -0.039943 -0.003541   \n",
              "PAY_AMT4     0.007793   0.203242 -0.002229  0.026047  -0.038218 -0.012659   \n",
              "PAY_AMT5     0.000652   0.217202 -0.001667  0.022148  -0.040358 -0.001205   \n",
              "PAY_AMT6     0.003000   0.219595 -0.002766  0.020259  -0.037200 -0.006641   \n",
              "DELINQ_NEXT -0.013952  -0.153520 -0.039961 -0.303811   0.028006 -0.024339   \n",
              "\n",
              "                  AGE     PAY_0     PAY_2     PAY_3  ...  BILL_AMT4  \\\n",
              "ID           0.018678 -0.030575 -0.011215 -0.018494  ...   0.040351   \n",
              "LIMIT_BAL    0.144713 -0.271214 -0.296382 -0.286123  ...   0.293988   \n",
              "SEX         -0.090874 -0.057643 -0.070771 -0.066096  ...  -0.021880   \n",
              "RACE         0.001284 -0.102487 -0.082986 -0.074547  ...   0.000376   \n",
              "EDUCATION    0.175061  0.105364  0.121566  0.114025  ...  -0.000451   \n",
              "MARRIAGE    -0.414170  0.019917  0.024199  0.032688  ...  -0.023344   \n",
              "AGE          1.000000 -0.039447 -0.050148 -0.053048  ...   0.051353   \n",
              "PAY_0       -0.039447  1.000000  0.672164  0.574245  ...   0.179125   \n",
              "PAY_2       -0.050148  0.672164  1.000000  0.766552  ...   0.222237   \n",
              "PAY_3       -0.053048  0.574245  0.766552  1.000000  ...   0.227202   \n",
              "PAY_4       -0.049722  0.538841  0.662067  0.777359  ...   0.245917   \n",
              "PAY_5       -0.053826  0.509426  0.622780  0.686775  ...   0.271915   \n",
              "PAY_6       -0.048773  0.474553  0.575501  0.632684  ...   0.266356   \n",
              "BILL_AMT1    0.056239  0.187068  0.234887  0.208473  ...   0.860272   \n",
              "BILL_AMT2    0.054283  0.189859  0.235257  0.237295  ...   0.892482   \n",
              "BILL_AMT3    0.053710  0.179785  0.224146  0.227494  ...   0.923969   \n",
              "BILL_AMT4    0.051353  0.179125  0.222237  0.227202  ...   1.000000   \n",
              "BILL_AMT5    0.049345  0.180635  0.221348  0.225145  ...   0.940134   \n",
              "BILL_AMT6    0.047613  0.176980  0.219403  0.222327  ...   0.900941   \n",
              "PAY_AMT1     0.026147 -0.079269 -0.080701  0.001295  ...   0.233012   \n",
              "PAY_AMT2     0.021785 -0.070101 -0.058990 -0.066793  ...   0.207564   \n",
              "PAY_AMT3     0.029247 -0.070561 -0.055901 -0.053311  ...   0.300023   \n",
              "PAY_AMT4     0.021379 -0.064005 -0.046858 -0.046067  ...   0.130191   \n",
              "PAY_AMT5     0.022850 -0.058190 -0.037093 -0.035863  ...   0.160433   \n",
              "PAY_AMT6     0.019478 -0.058673 -0.036500 -0.035861  ...   0.177637   \n",
              "DELINQ_NEXT  0.013890  0.324794  0.263551  0.235253  ...  -0.010156   \n",
              "\n",
              "             BILL_AMT5  BILL_AMT6  PAY_AMT1  PAY_AMT2  PAY_AMT3  PAY_AMT4  \\\n",
              "ID            0.016705   0.016730  0.009742  0.008406  0.039151  0.007793   \n",
              "LIMIT_BAL     0.295562   0.290389  0.195236  0.178408  0.210167  0.203242   \n",
              "SEX          -0.017005  -0.016733 -0.000242 -0.001391 -0.008597 -0.002229   \n",
              "RACE          0.002096   0.002756  0.030069  0.012681  0.021854  0.026047   \n",
              "EDUCATION    -0.007567  -0.009099 -0.037456 -0.030038 -0.039943 -0.038218   \n",
              "MARRIAGE     -0.025393  -0.021207 -0.005979 -0.008093 -0.003541 -0.012659   \n",
              "AGE           0.049345   0.047613  0.026147  0.021785  0.029247  0.021379   \n",
              "PAY_0         0.180635   0.176980 -0.079269 -0.070101 -0.070561 -0.064005   \n",
              "PAY_2         0.221348   0.219403 -0.080701 -0.058990 -0.055901 -0.046858   \n",
              "PAY_3         0.225145   0.222327  0.001295 -0.066793 -0.053311 -0.046067   \n",
              "PAY_4         0.242902   0.239154 -0.009362 -0.001944 -0.069235 -0.043461   \n",
              "PAY_5         0.269783   0.262509 -0.006089 -0.003191  0.009062 -0.058299   \n",
              "PAY_6         0.290894   0.285091 -0.001496 -0.005223  0.005834  0.019018   \n",
              "BILL_AMT1     0.829779   0.802650  0.140277  0.099355  0.156887  0.158303   \n",
              "BILL_AMT2     0.859778   0.831594  0.280365  0.100851  0.150718  0.147398   \n",
              "BILL_AMT3     0.883910   0.853320  0.244335  0.316936  0.130011  0.143405   \n",
              "BILL_AMT4     0.940134   0.900941  0.233012  0.207564  0.300023  0.130191   \n",
              "BILL_AMT5     1.000000   0.946197  0.217031  0.181246  0.252305  0.293118   \n",
              "BILL_AMT6     0.946197   1.000000  0.199965  0.172663  0.233770  0.250237   \n",
              "PAY_AMT1      0.217031   0.199965  1.000000  0.285576  0.252191  0.199558   \n",
              "PAY_AMT2      0.181246   0.172663  0.285576  1.000000  0.244770  0.180107   \n",
              "PAY_AMT3      0.252305   0.233770  0.252191  0.244770  1.000000  0.216325   \n",
              "PAY_AMT4      0.293118   0.250237  0.199558  0.180107  0.216325  1.000000   \n",
              "PAY_AMT5      0.141574   0.307729  0.148459  0.180908  0.159214  0.151830   \n",
              "PAY_AMT6      0.164184   0.115494  0.185735  0.157634  0.162740  0.157834   \n",
              "DELINQ_NEXT  -0.006760  -0.005372 -0.072929 -0.058579 -0.056250 -0.056827   \n",
              "\n",
              "             PAY_AMT5  PAY_AMT6  DELINQ_NEXT  \n",
              "ID           0.000652  0.003000    -0.013952  \n",
              "LIMIT_BAL    0.217202  0.219595    -0.153520  \n",
              "SEX         -0.001667 -0.002766    -0.039961  \n",
              "RACE         0.022148  0.020259    -0.303811  \n",
              "EDUCATION   -0.040358 -0.037200     0.028006  \n",
              "MARRIAGE    -0.001205 -0.006641    -0.024339  \n",
              "AGE          0.022850  0.019478     0.013890  \n",
              "PAY_0       -0.058190 -0.058673     0.324794  \n",
              "PAY_2       -0.037093 -0.036500     0.263551  \n",
              "PAY_3       -0.035863 -0.035861     0.235253  \n",
              "PAY_4       -0.033590 -0.026565     0.216614  \n",
              "PAY_5       -0.033337 -0.023027     0.204149  \n",
              "PAY_6       -0.046434 -0.025299     0.186866  \n",
              "BILL_AMT1    0.167026  0.179341    -0.019644  \n",
              "BILL_AMT2    0.157957  0.174256    -0.014193  \n",
              "BILL_AMT3    0.179712  0.182326    -0.014076  \n",
              "BILL_AMT4    0.160433  0.177637    -0.010156  \n",
              "BILL_AMT5    0.141574  0.164184    -0.006760  \n",
              "BILL_AMT6    0.307729  0.115494    -0.005372  \n",
              "PAY_AMT1     0.148459  0.185735    -0.072929  \n",
              "PAY_AMT2     0.180908  0.157634    -0.058579  \n",
              "PAY_AMT3     0.159214  0.162740    -0.056250  \n",
              "PAY_AMT4     0.151830  0.157834    -0.056827  \n",
              "PAY_AMT5     1.000000  0.154896    -0.055124  \n",
              "PAY_AMT6     0.154896  1.000000    -0.053183  \n",
              "DELINQ_NEXT -0.055124 -0.053183     1.000000  \n",
              "\n",
              "[26 rows x 26 columns]"
            ],
            "text/html": [
              "\n",
              "  <div id=\"df-1a470116-1c64-4678-80fb-a5c54f0aacc6\">\n",
              "    <div class=\"colab-df-container\">\n",
              "      <div>\n",
              "<style scoped>\n",
              "    .dataframe tbody tr th:only-of-type {\n",
              "        vertical-align: middle;\n",
              "    }\n",
              "\n",
              "    .dataframe tbody tr th {\n",
              "        vertical-align: top;\n",
              "    }\n",
              "\n",
              "    .dataframe thead th {\n",
              "        text-align: right;\n",
              "    }\n",
              "</style>\n",
              "<table border=\"1\" class=\"dataframe\">\n",
              "  <thead>\n",
              "    <tr style=\"text-align: right;\">\n",
              "      <th></th>\n",
              "      <th>ID</th>\n",
              "      <th>LIMIT_BAL</th>\n",
              "      <th>SEX</th>\n",
              "      <th>RACE</th>\n",
              "      <th>EDUCATION</th>\n",
              "      <th>MARRIAGE</th>\n",
              "      <th>AGE</th>\n",
              "      <th>PAY_0</th>\n",
              "      <th>PAY_2</th>\n",
              "      <th>PAY_3</th>\n",
              "      <th>...</th>\n",
              "      <th>BILL_AMT4</th>\n",
              "      <th>BILL_AMT5</th>\n",
              "      <th>BILL_AMT6</th>\n",
              "      <th>PAY_AMT1</th>\n",
              "      <th>PAY_AMT2</th>\n",
              "      <th>PAY_AMT3</th>\n",
              "      <th>PAY_AMT4</th>\n",
              "      <th>PAY_AMT5</th>\n",
              "      <th>PAY_AMT6</th>\n",
              "      <th>DELINQ_NEXT</th>\n",
              "    </tr>\n",
              "  </thead>\n",
              "  <tbody>\n",
              "    <tr>\n",
              "      <th>ID</th>\n",
              "      <td>1.000000</td>\n",
              "      <td>0.026179</td>\n",
              "      <td>0.018497</td>\n",
              "      <td>-0.000710</td>\n",
              "      <td>0.039177</td>\n",
              "      <td>-0.029079</td>\n",
              "      <td>0.018678</td>\n",
              "      <td>-0.030575</td>\n",
              "      <td>-0.011215</td>\n",
              "      <td>-0.018494</td>\n",
              "      <td>...</td>\n",
              "      <td>0.040351</td>\n",
              "      <td>0.016705</td>\n",
              "      <td>0.016730</td>\n",
              "      <td>0.009742</td>\n",
              "      <td>0.008406</td>\n",
              "      <td>0.039151</td>\n",
              "      <td>0.007793</td>\n",
              "      <td>0.000652</td>\n",
              "      <td>0.003000</td>\n",
              "      <td>-0.013952</td>\n",
              "    </tr>\n",
              "    <tr>\n",
              "      <th>LIMIT_BAL</th>\n",
              "      <td>0.026179</td>\n",
              "      <td>1.000000</td>\n",
              "      <td>0.024755</td>\n",
              "      <td>0.044173</td>\n",
              "      <td>-0.219161</td>\n",
              "      <td>-0.108139</td>\n",
              "      <td>0.144713</td>\n",
              "      <td>-0.271214</td>\n",
              "      <td>-0.296382</td>\n",
              "      <td>-0.286123</td>\n",
              "      <td>...</td>\n",
              "      <td>0.293988</td>\n",
              "      <td>0.295562</td>\n",
              "      <td>0.290389</td>\n",
              "      <td>0.195236</td>\n",
              "      <td>0.178408</td>\n",
              "      <td>0.210167</td>\n",
              "      <td>0.203242</td>\n",
              "      <td>0.217202</td>\n",
              "      <td>0.219595</td>\n",
              "      <td>-0.153520</td>\n",
              "    </tr>\n",
              "    <tr>\n",
              "      <th>SEX</th>\n",
              "      <td>0.018497</td>\n",
              "      <td>0.024755</td>\n",
              "      <td>1.000000</td>\n",
              "      <td>0.006149</td>\n",
              "      <td>0.014232</td>\n",
              "      <td>-0.031389</td>\n",
              "      <td>-0.090874</td>\n",
              "      <td>-0.057643</td>\n",
              "      <td>-0.070771</td>\n",
              "      <td>-0.066096</td>\n",
              "      <td>...</td>\n",
              "      <td>-0.021880</td>\n",
              "      <td>-0.017005</td>\n",
              "      <td>-0.016733</td>\n",
              "      <td>-0.000242</td>\n",
              "      <td>-0.001391</td>\n",
              "      <td>-0.008597</td>\n",
              "      <td>-0.002229</td>\n",
              "      <td>-0.001667</td>\n",
              "      <td>-0.002766</td>\n",
              "      <td>-0.039961</td>\n",
              "    </tr>\n",
              "    <tr>\n",
              "      <th>RACE</th>\n",
              "      <td>-0.000710</td>\n",
              "      <td>0.044173</td>\n",
              "      <td>0.006149</td>\n",
              "      <td>1.000000</td>\n",
              "      <td>-0.012796</td>\n",
              "      <td>0.007010</td>\n",
              "      <td>0.001284</td>\n",
              "      <td>-0.102487</td>\n",
              "      <td>-0.082986</td>\n",
              "      <td>-0.074547</td>\n",
              "      <td>...</td>\n",
              "      <td>0.000376</td>\n",
              "      <td>0.002096</td>\n",
              "      <td>0.002756</td>\n",
              "      <td>0.030069</td>\n",
              "      <td>0.012681</td>\n",
              "      <td>0.021854</td>\n",
              "      <td>0.026047</td>\n",
              "      <td>0.022148</td>\n",
              "      <td>0.020259</td>\n",
              "      <td>-0.303811</td>\n",
              "    </tr>\n",
              "    <tr>\n",
              "      <th>EDUCATION</th>\n",
              "      <td>0.039177</td>\n",
              "      <td>-0.219161</td>\n",
              "      <td>0.014232</td>\n",
              "      <td>-0.012796</td>\n",
              "      <td>1.000000</td>\n",
              "      <td>-0.143464</td>\n",
              "      <td>0.175061</td>\n",
              "      <td>0.105364</td>\n",
              "      <td>0.121566</td>\n",
              "      <td>0.114025</td>\n",
              "      <td>...</td>\n",
              "      <td>-0.000451</td>\n",
              "      <td>-0.007567</td>\n",
              "      <td>-0.009099</td>\n",
              "      <td>-0.037456</td>\n",
              "      <td>-0.030038</td>\n",
              "      <td>-0.039943</td>\n",
              "      <td>-0.038218</td>\n",
              "      <td>-0.040358</td>\n",
              "      <td>-0.037200</td>\n",
              "      <td>0.028006</td>\n",
              "    </tr>\n",
              "    <tr>\n",
              "      <th>MARRIAGE</th>\n",
              "      <td>-0.029079</td>\n",
              "      <td>-0.108139</td>\n",
              "      <td>-0.031389</td>\n",
              "      <td>0.007010</td>\n",
              "      <td>-0.143464</td>\n",
              "      <td>1.000000</td>\n",
              "      <td>-0.414170</td>\n",
              "      <td>0.019917</td>\n",
              "      <td>0.024199</td>\n",
              "      <td>0.032688</td>\n",
              "      <td>...</td>\n",
              "      <td>-0.023344</td>\n",
              "      <td>-0.025393</td>\n",
              "      <td>-0.021207</td>\n",
              "      <td>-0.005979</td>\n",
              "      <td>-0.008093</td>\n",
              "      <td>-0.003541</td>\n",
              "      <td>-0.012659</td>\n",
              "      <td>-0.001205</td>\n",
              "      <td>-0.006641</td>\n",
              "      <td>-0.024339</td>\n",
              "    </tr>\n",
              "    <tr>\n",
              "      <th>AGE</th>\n",
              "      <td>0.018678</td>\n",
              "      <td>0.144713</td>\n",
              "      <td>-0.090874</td>\n",
              "      <td>0.001284</td>\n",
              "      <td>0.175061</td>\n",
              "      <td>-0.414170</td>\n",
              "      <td>1.000000</td>\n",
              "      <td>-0.039447</td>\n",
              "      <td>-0.050148</td>\n",
              "      <td>-0.053048</td>\n",
              "      <td>...</td>\n",
              "      <td>0.051353</td>\n",
              "      <td>0.049345</td>\n",
              "      <td>0.047613</td>\n",
              "      <td>0.026147</td>\n",
              "      <td>0.021785</td>\n",
              "      <td>0.029247</td>\n",
              "      <td>0.021379</td>\n",
              "      <td>0.022850</td>\n",
              "      <td>0.019478</td>\n",
              "      <td>0.013890</td>\n",
              "    </tr>\n",
              "    <tr>\n",
              "      <th>PAY_0</th>\n",
              "      <td>-0.030575</td>\n",
              "      <td>-0.271214</td>\n",
              "      <td>-0.057643</td>\n",
              "      <td>-0.102487</td>\n",
              "      <td>0.105364</td>\n",
              "      <td>0.019917</td>\n",
              "      <td>-0.039447</td>\n",
              "      <td>1.000000</td>\n",
              "      <td>0.672164</td>\n",
              "      <td>0.574245</td>\n",
              "      <td>...</td>\n",
              "      <td>0.179125</td>\n",
              "      <td>0.180635</td>\n",
              "      <td>0.176980</td>\n",
              "      <td>-0.079269</td>\n",
              "      <td>-0.070101</td>\n",
              "      <td>-0.070561</td>\n",
              "      <td>-0.064005</td>\n",
              "      <td>-0.058190</td>\n",
              "      <td>-0.058673</td>\n",
              "      <td>0.324794</td>\n",
              "    </tr>\n",
              "    <tr>\n",
              "      <th>PAY_2</th>\n",
              "      <td>-0.011215</td>\n",
              "      <td>-0.296382</td>\n",
              "      <td>-0.070771</td>\n",
              "      <td>-0.082986</td>\n",
              "      <td>0.121566</td>\n",
              "      <td>0.024199</td>\n",
              "      <td>-0.050148</td>\n",
              "      <td>0.672164</td>\n",
              "      <td>1.000000</td>\n",
              "      <td>0.766552</td>\n",
              "      <td>...</td>\n",
              "      <td>0.222237</td>\n",
              "      <td>0.221348</td>\n",
              "      <td>0.219403</td>\n",
              "      <td>-0.080701</td>\n",
              "      <td>-0.058990</td>\n",
              "      <td>-0.055901</td>\n",
              "      <td>-0.046858</td>\n",
              "      <td>-0.037093</td>\n",
              "      <td>-0.036500</td>\n",
              "      <td>0.263551</td>\n",
              "    </tr>\n",
              "    <tr>\n",
              "      <th>PAY_3</th>\n",
              "      <td>-0.018494</td>\n",
              "      <td>-0.286123</td>\n",
              "      <td>-0.066096</td>\n",
              "      <td>-0.074547</td>\n",
              "      <td>0.114025</td>\n",
              "      <td>0.032688</td>\n",
              "      <td>-0.053048</td>\n",
              "      <td>0.574245</td>\n",
              "      <td>0.766552</td>\n",
              "      <td>1.000000</td>\n",
              "      <td>...</td>\n",
              "      <td>0.227202</td>\n",
              "      <td>0.225145</td>\n",
              "      <td>0.222327</td>\n",
              "      <td>0.001295</td>\n",
              "      <td>-0.066793</td>\n",
              "      <td>-0.053311</td>\n",
              "      <td>-0.046067</td>\n",
              "      <td>-0.035863</td>\n",
              "      <td>-0.035861</td>\n",
              "      <td>0.235253</td>\n",
              "    </tr>\n",
              "    <tr>\n",
              "      <th>PAY_4</th>\n",
              "      <td>-0.002735</td>\n",
              "      <td>-0.267460</td>\n",
              "      <td>-0.060173</td>\n",
              "      <td>-0.072259</td>\n",
              "      <td>0.108793</td>\n",
              "      <td>0.033122</td>\n",
              "      <td>-0.049722</td>\n",
              "      <td>0.538841</td>\n",
              "      <td>0.662067</td>\n",
              "      <td>0.777359</td>\n",
              "      <td>...</td>\n",
              "      <td>0.245917</td>\n",
              "      <td>0.242902</td>\n",
              "      <td>0.239154</td>\n",
              "      <td>-0.009362</td>\n",
              "      <td>-0.001944</td>\n",
              "      <td>-0.069235</td>\n",
              "      <td>-0.043461</td>\n",
              "      <td>-0.033590</td>\n",
              "      <td>-0.026565</td>\n",
              "      <td>0.216614</td>\n",
              "    </tr>\n",
              "    <tr>\n",
              "      <th>PAY_5</th>\n",
              "      <td>-0.022199</td>\n",
              "      <td>-0.249411</td>\n",
              "      <td>-0.055064</td>\n",
              "      <td>-0.067316</td>\n",
              "      <td>0.097520</td>\n",
              "      <td>0.035629</td>\n",
              "      <td>-0.053826</td>\n",
              "      <td>0.509426</td>\n",
              "      <td>0.622780</td>\n",
              "      <td>0.686775</td>\n",
              "      <td>...</td>\n",
              "      <td>0.271915</td>\n",
              "      <td>0.269783</td>\n",
              "      <td>0.262509</td>\n",
              "      <td>-0.006089</td>\n",
              "      <td>-0.003191</td>\n",
              "      <td>0.009062</td>\n",
              "      <td>-0.058299</td>\n",
              "      <td>-0.033337</td>\n",
              "      <td>-0.023027</td>\n",
              "      <td>0.204149</td>\n",
              "    </tr>\n",
              "    <tr>\n",
              "      <th>PAY_6</th>\n",
              "      <td>-0.020270</td>\n",
              "      <td>-0.235195</td>\n",
              "      <td>-0.044008</td>\n",
              "      <td>-0.054935</td>\n",
              "      <td>0.082316</td>\n",
              "      <td>0.034345</td>\n",
              "      <td>-0.048773</td>\n",
              "      <td>0.474553</td>\n",
              "      <td>0.575501</td>\n",
              "      <td>0.632684</td>\n",
              "      <td>...</td>\n",
              "      <td>0.266356</td>\n",
              "      <td>0.290894</td>\n",
              "      <td>0.285091</td>\n",
              "      <td>-0.001496</td>\n",
              "      <td>-0.005223</td>\n",
              "      <td>0.005834</td>\n",
              "      <td>0.019018</td>\n",
              "      <td>-0.046434</td>\n",
              "      <td>-0.025299</td>\n",
              "      <td>0.186866</td>\n",
              "    </tr>\n",
              "    <tr>\n",
              "      <th>BILL_AMT1</th>\n",
              "      <td>0.019389</td>\n",
              "      <td>0.285430</td>\n",
              "      <td>-0.033642</td>\n",
              "      <td>0.004232</td>\n",
              "      <td>0.023581</td>\n",
              "      <td>-0.023472</td>\n",
              "      <td>0.056239</td>\n",
              "      <td>0.187068</td>\n",
              "      <td>0.234887</td>\n",
              "      <td>0.208473</td>\n",
              "      <td>...</td>\n",
              "      <td>0.860272</td>\n",
              "      <td>0.829779</td>\n",
              "      <td>0.802650</td>\n",
              "      <td>0.140277</td>\n",
              "      <td>0.099355</td>\n",
              "      <td>0.156887</td>\n",
              "      <td>0.158303</td>\n",
              "      <td>0.167026</td>\n",
              "      <td>0.179341</td>\n",
              "      <td>-0.019644</td>\n",
              "    </tr>\n",
              "    <tr>\n",
              "      <th>BILL_AMT2</th>\n",
              "      <td>0.017982</td>\n",
              "      <td>0.278314</td>\n",
              "      <td>-0.031183</td>\n",
              "      <td>0.002459</td>\n",
              "      <td>0.018749</td>\n",
              "      <td>-0.021602</td>\n",
              "      <td>0.054283</td>\n",
              "      <td>0.189859</td>\n",
              "      <td>0.235257</td>\n",
              "      <td>0.237295</td>\n",
              "      <td>...</td>\n",
              "      <td>0.892482</td>\n",
              "      <td>0.859778</td>\n",
              "      <td>0.831594</td>\n",
              "      <td>0.280365</td>\n",
              "      <td>0.100851</td>\n",
              "      <td>0.150718</td>\n",
              "      <td>0.147398</td>\n",
              "      <td>0.157957</td>\n",
              "      <td>0.174256</td>\n",
              "      <td>-0.014193</td>\n",
              "    </tr>\n",
              "    <tr>\n",
              "      <th>BILL_AMT3</th>\n",
              "      <td>0.024354</td>\n",
              "      <td>0.283236</td>\n",
              "      <td>-0.024563</td>\n",
              "      <td>0.000543</td>\n",
              "      <td>0.013002</td>\n",
              "      <td>-0.024909</td>\n",
              "      <td>0.053710</td>\n",
              "      <td>0.179785</td>\n",
              "      <td>0.224146</td>\n",
              "      <td>0.227494</td>\n",
              "      <td>...</td>\n",
              "      <td>0.923969</td>\n",
              "      <td>0.883910</td>\n",
              "      <td>0.853320</td>\n",
              "      <td>0.244335</td>\n",
              "      <td>0.316936</td>\n",
              "      <td>0.130011</td>\n",
              "      <td>0.143405</td>\n",
              "      <td>0.179712</td>\n",
              "      <td>0.182326</td>\n",
              "      <td>-0.014076</td>\n",
              "    </tr>\n",
              "    <tr>\n",
              "      <th>BILL_AMT4</th>\n",
              "      <td>0.040351</td>\n",
              "      <td>0.293988</td>\n",
              "      <td>-0.021880</td>\n",
              "      <td>0.000376</td>\n",
              "      <td>-0.000451</td>\n",
              "      <td>-0.023344</td>\n",
              "      <td>0.051353</td>\n",
              "      <td>0.179125</td>\n",
              "      <td>0.222237</td>\n",
              "      <td>0.227202</td>\n",
              "      <td>...</td>\n",
              "      <td>1.000000</td>\n",
              "      <td>0.940134</td>\n",
              "      <td>0.900941</td>\n",
              "      <td>0.233012</td>\n",
              "      <td>0.207564</td>\n",
              "      <td>0.300023</td>\n",
              "      <td>0.130191</td>\n",
              "      <td>0.160433</td>\n",
              "      <td>0.177637</td>\n",
              "      <td>-0.010156</td>\n",
              "    </tr>\n",
              "    <tr>\n",
              "      <th>BILL_AMT5</th>\n",
              "      <td>0.016705</td>\n",
              "      <td>0.295562</td>\n",
              "      <td>-0.017005</td>\n",
              "      <td>0.002096</td>\n",
              "      <td>-0.007567</td>\n",
              "      <td>-0.025393</td>\n",
              "      <td>0.049345</td>\n",
              "      <td>0.180635</td>\n",
              "      <td>0.221348</td>\n",
              "      <td>0.225145</td>\n",
              "      <td>...</td>\n",
              "      <td>0.940134</td>\n",
              "      <td>1.000000</td>\n",
              "      <td>0.946197</td>\n",
              "      <td>0.217031</td>\n",
              "      <td>0.181246</td>\n",
              "      <td>0.252305</td>\n",
              "      <td>0.293118</td>\n",
              "      <td>0.141574</td>\n",
              "      <td>0.164184</td>\n",
              "      <td>-0.006760</td>\n",
              "    </tr>\n",
              "    <tr>\n",
              "      <th>BILL_AMT6</th>\n",
              "      <td>0.016730</td>\n",
              "      <td>0.290389</td>\n",
              "      <td>-0.016733</td>\n",
              "      <td>0.002756</td>\n",
              "      <td>-0.009099</td>\n",
              "      <td>-0.021207</td>\n",
              "      <td>0.047613</td>\n",
              "      <td>0.176980</td>\n",
              "      <td>0.219403</td>\n",
              "      <td>0.222327</td>\n",
              "      <td>...</td>\n",
              "      <td>0.900941</td>\n",
              "      <td>0.946197</td>\n",
              "      <td>1.000000</td>\n",
              "      <td>0.199965</td>\n",
              "      <td>0.172663</td>\n",
              "      <td>0.233770</td>\n",
              "      <td>0.250237</td>\n",
              "      <td>0.307729</td>\n",
              "      <td>0.115494</td>\n",
              "      <td>-0.005372</td>\n",
              "    </tr>\n",
              "    <tr>\n",
              "      <th>PAY_AMT1</th>\n",
              "      <td>0.009742</td>\n",
              "      <td>0.195236</td>\n",
              "      <td>-0.000242</td>\n",
              "      <td>0.030069</td>\n",
              "      <td>-0.037456</td>\n",
              "      <td>-0.005979</td>\n",
              "      <td>0.026147</td>\n",
              "      <td>-0.079269</td>\n",
              "      <td>-0.080701</td>\n",
              "      <td>0.001295</td>\n",
              "      <td>...</td>\n",
              "      <td>0.233012</td>\n",
              "      <td>0.217031</td>\n",
              "      <td>0.199965</td>\n",
              "      <td>1.000000</td>\n",
              "      <td>0.285576</td>\n",
              "      <td>0.252191</td>\n",
              "      <td>0.199558</td>\n",
              "      <td>0.148459</td>\n",
              "      <td>0.185735</td>\n",
              "      <td>-0.072929</td>\n",
              "    </tr>\n",
              "    <tr>\n",
              "      <th>PAY_AMT2</th>\n",
              "      <td>0.008406</td>\n",
              "      <td>0.178408</td>\n",
              "      <td>-0.001391</td>\n",
              "      <td>0.012681</td>\n",
              "      <td>-0.030038</td>\n",
              "      <td>-0.008093</td>\n",
              "      <td>0.021785</td>\n",
              "      <td>-0.070101</td>\n",
              "      <td>-0.058990</td>\n",
              "      <td>-0.066793</td>\n",
              "      <td>...</td>\n",
              "      <td>0.207564</td>\n",
              "      <td>0.181246</td>\n",
              "      <td>0.172663</td>\n",
              "      <td>0.285576</td>\n",
              "      <td>1.000000</td>\n",
              "      <td>0.244770</td>\n",
              "      <td>0.180107</td>\n",
              "      <td>0.180908</td>\n",
              "      <td>0.157634</td>\n",
              "      <td>-0.058579</td>\n",
              "    </tr>\n",
              "    <tr>\n",
              "      <th>PAY_AMT3</th>\n",
              "      <td>0.039151</td>\n",
              "      <td>0.210167</td>\n",
              "      <td>-0.008597</td>\n",
              "      <td>0.021854</td>\n",
              "      <td>-0.039943</td>\n",
              "      <td>-0.003541</td>\n",
              "      <td>0.029247</td>\n",
              "      <td>-0.070561</td>\n",
              "      <td>-0.055901</td>\n",
              "      <td>-0.053311</td>\n",
              "      <td>...</td>\n",
              "      <td>0.300023</td>\n",
              "      <td>0.252305</td>\n",
              "      <td>0.233770</td>\n",
              "      <td>0.252191</td>\n",
              "      <td>0.244770</td>\n",
              "      <td>1.000000</td>\n",
              "      <td>0.216325</td>\n",
              "      <td>0.159214</td>\n",
              "      <td>0.162740</td>\n",
              "      <td>-0.056250</td>\n",
              "    </tr>\n",
              "    <tr>\n",
              "      <th>PAY_AMT4</th>\n",
              "      <td>0.007793</td>\n",
              "      <td>0.203242</td>\n",
              "      <td>-0.002229</td>\n",
              "      <td>0.026047</td>\n",
              "      <td>-0.038218</td>\n",
              "      <td>-0.012659</td>\n",
              "      <td>0.021379</td>\n",
              "      <td>-0.064005</td>\n",
              "      <td>-0.046858</td>\n",
              "      <td>-0.046067</td>\n",
              "      <td>...</td>\n",
              "      <td>0.130191</td>\n",
              "      <td>0.293118</td>\n",
              "      <td>0.250237</td>\n",
              "      <td>0.199558</td>\n",
              "      <td>0.180107</td>\n",
              "      <td>0.216325</td>\n",
              "      <td>1.000000</td>\n",
              "      <td>0.151830</td>\n",
              "      <td>0.157834</td>\n",
              "      <td>-0.056827</td>\n",
              "    </tr>\n",
              "    <tr>\n",
              "      <th>PAY_AMT5</th>\n",
              "      <td>0.000652</td>\n",
              "      <td>0.217202</td>\n",
              "      <td>-0.001667</td>\n",
              "      <td>0.022148</td>\n",
              "      <td>-0.040358</td>\n",
              "      <td>-0.001205</td>\n",
              "      <td>0.022850</td>\n",
              "      <td>-0.058190</td>\n",
              "      <td>-0.037093</td>\n",
              "      <td>-0.035863</td>\n",
              "      <td>...</td>\n",
              "      <td>0.160433</td>\n",
              "      <td>0.141574</td>\n",
              "      <td>0.307729</td>\n",
              "      <td>0.148459</td>\n",
              "      <td>0.180908</td>\n",
              "      <td>0.159214</td>\n",
              "      <td>0.151830</td>\n",
              "      <td>1.000000</td>\n",
              "      <td>0.154896</td>\n",
              "      <td>-0.055124</td>\n",
              "    </tr>\n",
              "    <tr>\n",
              "      <th>PAY_AMT6</th>\n",
              "      <td>0.003000</td>\n",
              "      <td>0.219595</td>\n",
              "      <td>-0.002766</td>\n",
              "      <td>0.020259</td>\n",
              "      <td>-0.037200</td>\n",
              "      <td>-0.006641</td>\n",
              "      <td>0.019478</td>\n",
              "      <td>-0.058673</td>\n",
              "      <td>-0.036500</td>\n",
              "      <td>-0.035861</td>\n",
              "      <td>...</td>\n",
              "      <td>0.177637</td>\n",
              "      <td>0.164184</td>\n",
              "      <td>0.115494</td>\n",
              "      <td>0.185735</td>\n",
              "      <td>0.157634</td>\n",
              "      <td>0.162740</td>\n",
              "      <td>0.157834</td>\n",
              "      <td>0.154896</td>\n",
              "      <td>1.000000</td>\n",
              "      <td>-0.053183</td>\n",
              "    </tr>\n",
              "    <tr>\n",
              "      <th>DELINQ_NEXT</th>\n",
              "      <td>-0.013952</td>\n",
              "      <td>-0.153520</td>\n",
              "      <td>-0.039961</td>\n",
              "      <td>-0.303811</td>\n",
              "      <td>0.028006</td>\n",
              "      <td>-0.024339</td>\n",
              "      <td>0.013890</td>\n",
              "      <td>0.324794</td>\n",
              "      <td>0.263551</td>\n",
              "      <td>0.235253</td>\n",
              "      <td>...</td>\n",
              "      <td>-0.010156</td>\n",
              "      <td>-0.006760</td>\n",
              "      <td>-0.005372</td>\n",
              "      <td>-0.072929</td>\n",
              "      <td>-0.058579</td>\n",
              "      <td>-0.056250</td>\n",
              "      <td>-0.056827</td>\n",
              "      <td>-0.055124</td>\n",
              "      <td>-0.053183</td>\n",
              "      <td>1.000000</td>\n",
              "    </tr>\n",
              "  </tbody>\n",
              "</table>\n",
              "<p>26 rows × 26 columns</p>\n",
              "</div>\n",
              "      <button class=\"colab-df-convert\" onclick=\"convertToInteractive('df-1a470116-1c64-4678-80fb-a5c54f0aacc6')\"\n",
              "              title=\"Convert this dataframe to an interactive table.\"\n",
              "              style=\"display:none;\">\n",
              "        \n",
              "  <svg xmlns=\"http://www.w3.org/2000/svg\" height=\"24px\"viewBox=\"0 0 24 24\"\n",
              "       width=\"24px\">\n",
              "    <path d=\"M0 0h24v24H0V0z\" fill=\"none\"/>\n",
              "    <path d=\"M18.56 5.44l.94 2.06.94-2.06 2.06-.94-2.06-.94-.94-2.06-.94 2.06-2.06.94zm-11 1L8.5 8.5l.94-2.06 2.06-.94-2.06-.94L8.5 2.5l-.94 2.06-2.06.94zm10 10l.94 2.06.94-2.06 2.06-.94-2.06-.94-.94-2.06-.94 2.06-2.06.94z\"/><path d=\"M17.41 7.96l-1.37-1.37c-.4-.4-.92-.59-1.43-.59-.52 0-1.04.2-1.43.59L10.3 9.45l-7.72 7.72c-.78.78-.78 2.05 0 2.83L4 21.41c.39.39.9.59 1.41.59.51 0 1.02-.2 1.41-.59l7.78-7.78 2.81-2.81c.8-.78.8-2.07 0-2.86zM5.41 20L4 18.59l7.72-7.72 1.47 1.35L5.41 20z\"/>\n",
              "  </svg>\n",
              "      </button>\n",
              "      \n",
              "  <style>\n",
              "    .colab-df-container {\n",
              "      display:flex;\n",
              "      flex-wrap:wrap;\n",
              "      gap: 12px;\n",
              "    }\n",
              "\n",
              "    .colab-df-convert {\n",
              "      background-color: #E8F0FE;\n",
              "      border: none;\n",
              "      border-radius: 50%;\n",
              "      cursor: pointer;\n",
              "      display: none;\n",
              "      fill: #1967D2;\n",
              "      height: 32px;\n",
              "      padding: 0 0 0 0;\n",
              "      width: 32px;\n",
              "    }\n",
              "\n",
              "    .colab-df-convert:hover {\n",
              "      background-color: #E2EBFA;\n",
              "      box-shadow: 0px 1px 2px rgba(60, 64, 67, 0.3), 0px 1px 3px 1px rgba(60, 64, 67, 0.15);\n",
              "      fill: #174EA6;\n",
              "    }\n",
              "\n",
              "    [theme=dark] .colab-df-convert {\n",
              "      background-color: #3B4455;\n",
              "      fill: #D2E3FC;\n",
              "    }\n",
              "\n",
              "    [theme=dark] .colab-df-convert:hover {\n",
              "      background-color: #434B5C;\n",
              "      box-shadow: 0px 1px 3px 1px rgba(0, 0, 0, 0.15);\n",
              "      filter: drop-shadow(0px 1px 2px rgba(0, 0, 0, 0.3));\n",
              "      fill: #FFFFFF;\n",
              "    }\n",
              "  </style>\n",
              "\n",
              "      <script>\n",
              "        const buttonEl =\n",
              "          document.querySelector('#df-1a470116-1c64-4678-80fb-a5c54f0aacc6 button.colab-df-convert');\n",
              "        buttonEl.style.display =\n",
              "          google.colab.kernel.accessAllowed ? 'block' : 'none';\n",
              "\n",
              "        async function convertToInteractive(key) {\n",
              "          const element = document.querySelector('#df-1a470116-1c64-4678-80fb-a5c54f0aacc6');\n",
              "          const dataTable =\n",
              "            await google.colab.kernel.invokeFunction('convertToInteractive',\n",
              "                                                     [key], {});\n",
              "          if (!dataTable) return;\n",
              "\n",
              "          const docLinkHtml = 'Like what you see? Visit the ' +\n",
              "            '<a target=\"_blank\" href=https://colab.research.google.com/notebooks/data_table.ipynb>data table notebook</a>'\n",
              "            + ' to learn more about interactive tables.';\n",
              "          element.innerHTML = '';\n",
              "          dataTable['output_type'] = 'display_data';\n",
              "          await google.colab.output.renderOutput(dataTable, element);\n",
              "          const docLink = document.createElement('div');\n",
              "          docLink.innerHTML = docLinkHtml;\n",
              "          element.appendChild(docLink);\n",
              "        }\n",
              "      </script>\n",
              "    </div>\n",
              "  </div>\n",
              "  "
            ]
          },
          "metadata": {},
          "execution_count": 12
        }
      ]
    },
    {
      "cell_type": "markdown",
      "metadata": {
        "id": "Z0BvN0nPr_4z"
      },
      "source": [
        ""
      ]
    },
    {
      "cell_type": "code",
      "metadata": {
        "colab": {
          "base_uri": "https://localhost:8080/",
          "height": 655
        },
        "id": "raXTYL3XO90z",
        "outputId": "22b5c18e-d224-47ca-dcd1-c1cbe723f0d8"
      },
      "source": [
        "# correlation heatmap\n",
        "plt.figure(figsize=(10, 10))\n",
        "_ = sns.heatmap(corr, \n",
        "                xticklabels=corr.columns.values,\n",
        "                yticklabels=corr.columns.values)"
      ],
      "execution_count": 13,
      "outputs": [
        {
          "output_type": "display_data",
          "data": {
            "text/plain": [
              "<Figure size 720x720 with 2 Axes>"
            ],
            "image/png": "[encoded data removed]"
          },
          "metadata": {
            "needs_background": "light"
          }
        }
      ]
    },
    {
      "cell_type": "markdown",
      "metadata": {
        "id": "vUiwl2-QW9ST"
      },
      "source": [
        "#### Train decision tree "
      ]
    },
    {
      "cell_type": "code",
      "metadata": {
        "id": "8my2vVHYYXjC"
      },
      "source": [
        "# assign basic modeling roles\n",
        "# do not put demographic variables into a financial model!\n",
        "y_name = 'DELINQ_NEXT'\n",
        "X_names = ['LIMIT_BAL', 'PAY_0', 'PAY_2', 'PAY_3', 'PAY_4', 'PAY_5', 'PAY_6', 'BILL_AMT1', 'BILL_AMT2', 'BILL_AMT3', 'BILL_AMT4', 'BILL_AMT5', 'BILL_AMT6', 'PAY_AMT1', 'PAY_AMT2', 'PAY_AMT3', 'PAY_AMT4', 'PAY_AMT5', 'PAY_AMT6']"
      ],
      "execution_count": 14,
      "outputs": []
    },
    {
      "cell_type": "code",
      "metadata": {
        "colab": {
          "base_uri": "https://localhost:8080/"
        },
        "id": "dIx5GOB1XF20",
        "outputId": "19ebbe93-365a-4c1a-b65a-8e71fc7eb0bf"
      },
      "source": [
        "# partition data for honest assessment\n",
        "train_X, valid_test_X, train_y, valid_test_y = train_test_split(data[X_names], data[y_name], test_size=0.5, random_state=SEED) # split off training data\n",
        "valid_X, test_X, valid_y, test_y = train_test_split(valid_test_X, valid_test_y, test_size=0.5, random_state=SEED) # split remainder into validation and test\n",
        "\n",
        "# summarize \n",
        "print('Training data: %i rows and %i columns' % (train_X.shape[0], train_X.shape[1] + 1))\n",
        "print('Validation data: %i rows and %i columns' % (valid_X.shape[0], valid_X.shape[1] + 1))\n",
        "print('Testing data: %i rows and %i columns' % (test_X.shape[0], test_X.shape[1] + 1))\n",
        "\n",
        "# housekeeping\n",
        "del valid_test_X \n",
        "del valid_test_y"
      ],
      "execution_count": 16,
      "outputs": [
        {
          "output_type": "stream",
          "name": "stdout",
          "text": [
            "Training data: 15000 rows and 20 columns\n",
            "Validation data: 7500 rows and 20 columns\n",
            "Testing data: 7500 rows and 20 columns\n"
          ]
        }
      ]
    },
    {
      "cell_type": "code",
      "metadata": {
        "id": "vEsA-2mOYO-2"
      },
      "source": [
        "# train decision tree \n",
        "# with validation-based early stopping"
      ],
      "execution_count": 17,
      "outputs": []
    },
    {
      "cell_type": "code",
      "metadata": {
        "id": "kJTDrk2pwYxQ"
      },
      "source": [
        "# plot tree depth vs. training and validation AUC\n",
        "# using simple pandas plotting and matplotlib\n",
        "\n"
      ],
      "execution_count": 18,
      "outputs": []
    },
    {
      "cell_type": "code",
      "metadata": {
        "id": "fIDE3NSLrGBI"
      },
      "source": [
        "# veiw same results as a table, using pandas iloc to remove first column of table\n"
      ],
      "execution_count": 19,
      "outputs": []
    },
    {
      "cell_type": "code",
      "metadata": {
        "id": "QU4k6FGhwWuE"
      },
      "source": [
        "# plot the tree for human interpretation"
      ],
      "execution_count": 20,
      "outputs": []
    },
    {
      "cell_type": "code",
      "metadata": {
        "id": "-RLlY8hbqkvB"
      },
      "source": [
        "# plot variable importances\n",
        "# create pandas dataframe\n",
        "# plot dataframe values\n"
      ],
      "execution_count": 21,
      "outputs": []
    },
    {
      "cell_type": "code",
      "metadata": {
        "id": "PZnAgOXiwntl"
      },
      "source": [
        "# score on test data for \n",
        "# final HONEST assessment\n",
        "# this is not to see how well the model *did*!\n",
        "# it's to get an assessment of how it *will do* on unseen data!\n"
      ],
      "execution_count": 22,
      "outputs": []
    },
    {
      "cell_type": "markdown",
      "metadata": {
        "id": "X5HNGwyxt1JU"
      },
      "source": [
        "#### Function to create confusion matrices"
      ]
    },
    {
      "cell_type": "code",
      "metadata": {
        "id": "MdLKSEbeswTw"
      },
      "source": [
        "# function for confusion matrices\n"
      ],
      "execution_count": 23,
      "outputs": []
    },
    {
      "cell_type": "markdown",
      "metadata": {
        "id": "0IlCj2JAuCYi"
      },
      "source": [
        "#### Function to calculate AIR"
      ]
    },
    {
      "cell_type": "code",
      "metadata": {
        "id": "_23qNuz1uBlF"
      },
      "source": [
        "# function for AIR\n"
      ],
      "execution_count": 24,
      "outputs": []
    },
    {
      "cell_type": "markdown",
      "metadata": {
        "id": "eaM8NsnHvxeh"
      },
      "source": [
        "#### Bias testing"
      ]
    },
    {
      "cell_type": "code",
      "metadata": {
        "id": "53oCHfRFwTPF"
      },
      "source": [
        "# add probabilities onto validation set\n",
        "# note we need a probability cutoff to make a final lending decision\n"
      ],
      "execution_count": 25,
      "outputs": []
    },
    {
      "cell_type": "code",
      "metadata": {
        "id": "pJ-julMiuSTX"
      },
      "source": [
        "# calculate confusion matrices across race groups\n",
        "# calculate confusion matrices at standard cutoff 0.15\n",
        "# calculate AIR\n"
      ],
      "execution_count": 26,
      "outputs": []
    },
    {
      "cell_type": "code",
      "metadata": {
        "id": "CtxMbfLlK9mZ"
      },
      "source": [
        "# calculate confusion matrices across sex groups\n",
        "# calculate confusion matrices at standard cutoff 0.15\n",
        "# calculate AIR \n"
      ],
      "execution_count": 27,
      "outputs": []
    },
    {
      "cell_type": "markdown",
      "metadata": {
        "id": "7EUlo1axPRbv"
      },
      "source": [
        "#### Bias Remediation"
      ]
    },
    {
      "cell_type": "code",
      "metadata": {
        "id": "D3R2pL7bPW_V"
      },
      "source": [
        "# function to calculate accuracy at a certain probability cutoff\n"
      ],
      "execution_count": 28,
      "outputs": []
    },
    {
      "cell_type": "code",
      "metadata": {
        "id": "vmlthfMMSFJA"
      },
      "source": [
        "# observe accuracy trend as cutoff increases\n",
        "# the problem is: higher cutoff means lending more money, even if more accurate\n"
      ],
      "execution_count": 29,
      "outputs": []
    },
    {
      "cell_type": "code",
      "metadata": {
        "id": "W7slplR0SPtF"
      },
      "source": [
        "# recalculate AIR and confusion matrices at different cutoff\n"
      ],
      "execution_count": 30,
      "outputs": []
    },
    {
      "cell_type": "code",
      "metadata": {
        "id": "Yov5uMr_X0qG"
      },
      "source": [
        "# redo model search with new information\n",
        "# train decision tree \n",
        "# with validation-based early stopping\n",
        "# and AIR calculation!\n"
      ],
      "execution_count": 31,
      "outputs": []
    },
    {
      "cell_type": "code",
      "metadata": {
        "id": "1E5B9hqpZrJr"
      },
      "source": [
        "# plot tree depth vs. training and validation AUC and AIR\n",
        "# using simple pandas plotting and matplotlib\n",
        "\n"
      ],
      "execution_count": 32,
      "outputs": []
    }
  ]
}